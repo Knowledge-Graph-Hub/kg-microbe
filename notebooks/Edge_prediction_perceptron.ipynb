{
 "cells": [
  {
   "cell_type": "code",
   "execution_count": 39,
   "id": "b0930d0a-75d4-419f-a172-abe2ed9cf3e3",
   "metadata": {},
   "outputs": [],
   "source": [
    "from grape.edge_prediction import PerceptronEdgePrediction\n",
    "from grape.embedders import FirstOrderLINEEnsmallen\n",
    "from grape import Graph\n",
    "from glob import glob\n"
   ]
  },
  {
   "cell_type": "code",
   "execution_count": 40,
   "id": "032abc33-3a6f-47b7-a557-3f64d6891e27",
   "metadata": {},
   "outputs": [],
   "source": [
    "\n",
    "node_path = glob(\"../data/merged/merged-kg_nodes.tsv\", recursive=True)[0]\n",
    "edge_path = glob(\"../data/merged/merged-kg_edges.tsv\", recursive=True)[0]"
   ]
  },
  {
   "cell_type": "code",
   "execution_count": 41,
   "id": "ca2bbf5d-300e-4ba2-9a14-ec57a5adbc4a",
   "metadata": {},
   "outputs": [],
   "source": [
    "kg_microbe = Graph.from_csv(\n",
    "    # Edges related parameters\n",
    "\n",
    "    ## The path to the edges list tsv\n",
    "    edge_path=edge_path,\n",
    "    ## Set the tab as the separator between values\n",
    "    edge_list_separator=\"\\t\",\n",
    "    ## The first rows should NOT be used as the columns names\n",
    "    edge_list_header=True,\n",
    "    ## The source nodes are in the first nodes\n",
    "    sources_column=\"subject\",\n",
    "    #sources_column_number=1,\n",
    "    ## The destination nodes are in the second column\n",
    "    destinations_column=\"object\",\n",
    "    #destinations_column_number=4,\n",
    "    ## Both source and destinations columns use numeric node_ids instead of node names\n",
    "    edge_list_numeric_node_ids=False,\n",
    "    ## The weights are in the third column\n",
    "    weights_column_number=None,\n",
    "\n",
    "    #edge_type_path=edge_path,\n",
    "    edge_list_edge_types_column=\"predicate\",    \n",
    "\n",
    "    # Nodes related parameters\n",
    "    ## The path to the nodes list tsv\n",
    "    node_path=node_path,\n",
    "    ## Set the tab as the separator between values\n",
    "    node_list_separator=\"\\t\",\n",
    "    ## The first rows should be used as the columns names\n",
    "    node_list_header=True,\n",
    "    ## The column with the node names is the one with name \"node_name\".\n",
    "    nodes_column=\"id\",\n",
    "    #nodes_column_number=1,\n",
    "\n",
    "    #node_type_path=node_path,\n",
    "    node_list_node_types_column=\"category\",\n",
    "    \n",
    "    # Graph related parameters\n",
    "    ## The graph is undirected\n",
    "    directed=False,\n",
    "    ## The name of the graph is HomoSapiens\n",
    "    name=\"kg_microbe\",\n",
    "    ## Display a progress bar, (this might be in the terminal and not in the notebook)\n",
    "    verbose=True,\n",
    ")"
   ]
  },
  {
   "cell_type": "code",
   "execution_count": 42,
   "id": "32f6e54a-c663-4233-8fea-b0df64e7ee2f",
   "metadata": {},
   "outputs": [],
   "source": [
    "kg_microbe = kg_microbe.remove_disconnected_nodes()"
   ]
  },
  {
   "cell_type": "code",
   "execution_count": 43,
   "id": "1971d03e-b594-4585-ad7b-6e560f68767d",
   "metadata": {},
   "outputs": [],
   "source": [
    "train, test = kg_microbe.connected_holdout(train_size=0.75)"
   ]
  },
  {
   "cell_type": "code",
   "execution_count": 44,
   "id": "bac4ef1f-1974-4331-9303-e64652cd2100",
   "metadata": {},
   "outputs": [
    {
     "name": "stdout",
     "output_type": "stream",
     "text": [
      "CPU times: user 2min 53s, sys: 798 ms, total: 2min 53s\n",
      "Wall time: 21.1 s\n"
     ]
    }
   ],
   "source": [
    "%%time\n",
    "embedding = FirstOrderLINEEnsmallen().fit_transform(train)"
   ]
  },
  {
   "cell_type": "code",
   "execution_count": 45,
   "id": "93f2f1a1-1702-4196-bef8-3c49f9cd8a09",
   "metadata": {},
   "outputs": [
    {
     "name": "stdout",
     "output_type": "stream",
     "text": [
      "CPU times: user 1h 32min 11s, sys: 3h 44min 54s, total: 5h 17min 6s\n",
      "Wall time: 43min 28s\n"
     ]
    }
   ],
   "source": [
    "%%time\n",
    "model = PerceptronEdgePrediction(\n",
    "    edge_features=None,\n",
    "    number_of_edges_per_mini_batch=32,\n",
    "    edge_embeddings=\"CosineSimilarity\"\n",
    ")\n",
    "model.fit(\n",
    "    graph=train, \n",
    "    node_features=embedding\n",
    ")"
   ]
  },
  {
   "cell_type": "code",
   "execution_count": 46,
   "id": "30ffcd6f-134f-4d59-a530-556e96fa01cc",
   "metadata": {},
   "outputs": [
    {
     "ename": "ValueError",
     "evalue": "The density of the support graph has changed too much from the training graph. The density of the training graph was 2.0385230173922012e-06 while the density of the support graph is 6.381506176570104e-07. This may be due to a change in the graph structure or the provided support graph is not the one used during training. If you are using the same graph, please do provide the same support graph during prediction as you did during training.",
     "output_type": "error",
     "traceback": [
      "\u001b[0;31m---------------------------------------------------------------------------\u001b[0m",
      "\u001b[0;31mValueError\u001b[0m                                Traceback (most recent call last)",
      "File \u001b[0;32m<timed eval>:3\u001b[0m\n",
      "File \u001b[0;32m~/Documents/VIMSS/ontology/KG-Hub/KG-Microbe/kg-microbe/notebooks/venv/lib/python3.10/site-packages/embiggen/edge_prediction/edge_prediction_model.py:1074\u001b[0m, in \u001b[0;36mAbstractEdgePredictionModel.predict_proba\u001b[0;34m(self, graph, support, node_features, node_type_features, edge_type_features, edge_features, path, consume_predictions, return_predictions_dataframe, return_edge_type_names, return_node_names)\u001b[0m\n\u001b[1;32m   1019\u001b[0m \u001b[38;5;28;01mdef\u001b[39;00m \u001b[38;5;21mpredict_proba\u001b[39m(\n\u001b[1;32m   1020\u001b[0m     \u001b[38;5;28mself\u001b[39m,\n\u001b[1;32m   1021\u001b[0m     graph: Graph,\n\u001b[0;32m   (...)\u001b[0m\n\u001b[1;32m   1039\u001b[0m     return_node_names: \u001b[38;5;28mbool\u001b[39m \u001b[38;5;241m=\u001b[39m \u001b[38;5;28;01mTrue\u001b[39;00m,\n\u001b[1;32m   1040\u001b[0m ) \u001b[38;5;241m-\u001b[39m\u001b[38;5;241m>\u001b[39m Union[np\u001b[38;5;241m.\u001b[39mndarray, pd\u001b[38;5;241m.\u001b[39mDataFrame, Iterator[np\u001b[38;5;241m.\u001b[39mndarray]]:\n\u001b[1;32m   1041\u001b[0m \u001b[38;5;250m    \u001b[39m\u001b[38;5;124;03m\"\"\"Execute predictions on the provided graph.\u001b[39;00m\n\u001b[1;32m   1042\u001b[0m \n\u001b[1;32m   1043\u001b[0m \u001b[38;5;124;03m    Parameters\u001b[39;00m\n\u001b[0;32m   (...)\u001b[0m\n\u001b[1;32m   1072\u001b[0m \u001b[38;5;124;03m        requested for a prediction dataframe to be returned.\u001b[39;00m\n\u001b[1;32m   1073\u001b[0m \u001b[38;5;124;03m    \"\"\"\u001b[39;00m\n\u001b[0;32m-> 1074\u001b[0m     predictions: Union[Iterator[np\u001b[38;5;241m.\u001b[39mndarray], np\u001b[38;5;241m.\u001b[39mndarray] \u001b[38;5;241m=\u001b[39m \u001b[38;5;28;43msuper\u001b[39;49m\u001b[43m(\u001b[49m\u001b[43m)\u001b[49m\u001b[38;5;241;43m.\u001b[39;49m\u001b[43mpredict_proba\u001b[49m\u001b[43m(\u001b[49m\n\u001b[1;32m   1075\u001b[0m \u001b[43m        \u001b[49m\u001b[43mgraph\u001b[49m\u001b[43m,\u001b[49m\n\u001b[1;32m   1076\u001b[0m \u001b[43m        \u001b[49m\u001b[43msupport\u001b[49m\u001b[38;5;241;43m=\u001b[39;49m\u001b[43msupport\u001b[49m\u001b[43m,\u001b[49m\n\u001b[1;32m   1077\u001b[0m \u001b[43m        \u001b[49m\u001b[43mnode_features\u001b[49m\u001b[38;5;241;43m=\u001b[39;49m\u001b[43mnode_features\u001b[49m\u001b[43m,\u001b[49m\n\u001b[1;32m   1078\u001b[0m \u001b[43m        \u001b[49m\u001b[43mnode_type_features\u001b[49m\u001b[38;5;241;43m=\u001b[39;49m\u001b[43mnode_type_features\u001b[49m\u001b[43m,\u001b[49m\n\u001b[1;32m   1079\u001b[0m \u001b[43m        \u001b[49m\u001b[43medge_type_features\u001b[49m\u001b[38;5;241;43m=\u001b[39;49m\u001b[43medge_type_features\u001b[49m\u001b[43m,\u001b[49m\n\u001b[1;32m   1080\u001b[0m \u001b[43m        \u001b[49m\u001b[43medge_features\u001b[49m\u001b[38;5;241;43m=\u001b[39;49m\u001b[38;5;28;43mself\u001b[39;49m\u001b[38;5;241;43m.\u001b[39;49m\u001b[43medge_features_check\u001b[49m\u001b[43m(\u001b[49m\u001b[43medge_features\u001b[49m\u001b[43m)\u001b[49m\u001b[43m,\u001b[49m\n\u001b[1;32m   1081\u001b[0m \u001b[43m    \u001b[49m\u001b[43m)\u001b[49m\n\u001b[1;32m   1083\u001b[0m     \u001b[38;5;28;01mif\u001b[39;00m \u001b[38;5;28misinstance\u001b[39m(predictions, np\u001b[38;5;241m.\u001b[39mndarray) \u001b[38;5;129;01mand\u001b[39;00m path \u001b[38;5;129;01mis\u001b[39;00m \u001b[38;5;129;01mnot\u001b[39;00m \u001b[38;5;28;01mNone\u001b[39;00m:\n\u001b[1;32m   1084\u001b[0m         predictions \u001b[38;5;241m=\u001b[39m [predictions]\n",
      "File \u001b[0;32m~/Documents/VIMSS/ontology/KG-Hub/KG-Microbe/kg-microbe/notebooks/venv/lib/python3.10/site-packages/embiggen/utils/abstract_models/abstract_classifier_model.py:1958\u001b[0m, in \u001b[0;36mAbstractClassifierModel.predict_proba\u001b[0;34m(self, graph, support, node_features, node_type_features, edge_type_features, edge_features)\u001b[0m\n\u001b[1;32m   1955\u001b[0m \u001b[38;5;28mself\u001b[39m\u001b[38;5;241m.\u001b[39m_check_nan(edge_type_features, \u001b[38;5;124m\"\u001b[39m\u001b[38;5;124medge type features\u001b[39m\u001b[38;5;124m\"\u001b[39m)\n\u001b[1;32m   1957\u001b[0m \u001b[38;5;28;01mif\u001b[39;00m \u001b[38;5;28mself\u001b[39m\u001b[38;5;241m.\u001b[39m_training_graph_density \u001b[38;5;241m>\u001b[39m support\u001b[38;5;241m.\u001b[39mget_density() \u001b[38;5;241m*\u001b[39m \u001b[38;5;241m3.0\u001b[39m \u001b[38;5;129;01mor\u001b[39;00m \u001b[38;5;28mself\u001b[39m\u001b[38;5;241m.\u001b[39m_training_graph_density \u001b[38;5;241m<\u001b[39m support\u001b[38;5;241m.\u001b[39mget_density() \u001b[38;5;241m/\u001b[39m \u001b[38;5;241m3.0\u001b[39m:\n\u001b[0;32m-> 1958\u001b[0m     \u001b[38;5;28;01mraise\u001b[39;00m \u001b[38;5;167;01mValueError\u001b[39;00m(\n\u001b[1;32m   1959\u001b[0m         \u001b[38;5;124mf\u001b[39m\u001b[38;5;124m\"\u001b[39m\u001b[38;5;124mThe density of the support graph has changed too much from the training graph. \u001b[39m\u001b[38;5;124m\"\u001b[39m\n\u001b[1;32m   1960\u001b[0m         \u001b[38;5;124mf\u001b[39m\u001b[38;5;124m\"\u001b[39m\u001b[38;5;124mThe density of the training graph was \u001b[39m\u001b[38;5;132;01m{\u001b[39;00m\u001b[38;5;28mself\u001b[39m\u001b[38;5;241m.\u001b[39m_training_graph_density\u001b[38;5;132;01m}\u001b[39;00m\u001b[38;5;124m while the \u001b[39m\u001b[38;5;124m\"\u001b[39m\n\u001b[1;32m   1961\u001b[0m         \u001b[38;5;124mf\u001b[39m\u001b[38;5;124m\"\u001b[39m\u001b[38;5;124mdensity of the support graph is \u001b[39m\u001b[38;5;132;01m{\u001b[39;00msupport\u001b[38;5;241m.\u001b[39mget_density()\u001b[38;5;132;01m}\u001b[39;00m\u001b[38;5;124m. This may be due to a \u001b[39m\u001b[38;5;124m\"\u001b[39m\n\u001b[1;32m   1962\u001b[0m         \u001b[38;5;124mf\u001b[39m\u001b[38;5;124m\"\u001b[39m\u001b[38;5;124mchange in the graph structure or the provided support graph is not the one used \u001b[39m\u001b[38;5;124m\"\u001b[39m\n\u001b[1;32m   1963\u001b[0m         \u001b[38;5;124mf\u001b[39m\u001b[38;5;124m\"\u001b[39m\u001b[38;5;124mduring training. If you are using the same graph, please do provide the same \u001b[39m\u001b[38;5;124m\"\u001b[39m\n\u001b[1;32m   1964\u001b[0m         \u001b[38;5;124mf\u001b[39m\u001b[38;5;124m\"\u001b[39m\u001b[38;5;124msupport graph during prediction as you did during training.\u001b[39m\u001b[38;5;124m\"\u001b[39m\n\u001b[1;32m   1965\u001b[0m     )\n\u001b[1;32m   1967\u001b[0m \u001b[38;5;28;01mtry\u001b[39;00m:\n\u001b[1;32m   1968\u001b[0m     predictions: Union[np\u001b[38;5;241m.\u001b[39mndarray, Iterator[np\u001b[38;5;241m.\u001b[39mndarray]] \u001b[38;5;241m=\u001b[39m \u001b[38;5;28mself\u001b[39m\u001b[38;5;241m.\u001b[39m_predict_proba(\n\u001b[1;32m   1969\u001b[0m         graph\u001b[38;5;241m=\u001b[39mgraph,\n\u001b[1;32m   1970\u001b[0m         support\u001b[38;5;241m=\u001b[39msupport,\n\u001b[0;32m   (...)\u001b[0m\n\u001b[1;32m   1980\u001b[0m         ),\n\u001b[1;32m   1981\u001b[0m     )\n",
      "\u001b[0;31mValueError\u001b[0m: The density of the support graph has changed too much from the training graph. The density of the training graph was 2.0385230173922012e-06 while the density of the support graph is 6.381506176570104e-07. This may be due to a change in the graph structure or the provided support graph is not the one used during training. If you are using the same graph, please do provide the same support graph during prediction as you did during training."
     ]
    }
   ],
   "source": [
    "%%time\n",
    "# A perfect model should correctly predict the existence\n",
    "# of all of these edges.\n",
    "model.predict_proba(\n",
    "    graph=test,\n",
    "    node_features=embedding,\n",
    "    return_predictions_dataframe=True\n",
    ")"
   ]
  },
  {
   "cell_type": "code",
   "execution_count": 47,
   "id": "7f952a52-d484-4d5c-aab3-bdbb3040cf8c",
   "metadata": {},
   "outputs": [
    {
     "ename": "ValueError",
     "evalue": "The density of the support graph has changed too much from the training graph. The density of the training graph was 2.0385230173922012e-06 while the density of the support graph is 3.417185360828474e-07. This may be due to a change in the graph structure or the provided support graph is not the one used during training. If you are using the same graph, please do provide the same support graph during prediction as you did during training.",
     "output_type": "error",
     "traceback": [
      "\u001b[0;31m---------------------------------------------------------------------------\u001b[0m",
      "\u001b[0;31mValueError\u001b[0m                                Traceback (most recent call last)",
      "File \u001b[0;32m<timed eval>:3\u001b[0m\n",
      "File \u001b[0;32m~/Documents/VIMSS/ontology/KG-Hub/KG-Microbe/kg-microbe/notebooks/venv/lib/python3.10/site-packages/embiggen/edge_prediction/edge_prediction_model.py:1074\u001b[0m, in \u001b[0;36mAbstractEdgePredictionModel.predict_proba\u001b[0;34m(self, graph, support, node_features, node_type_features, edge_type_features, edge_features, path, consume_predictions, return_predictions_dataframe, return_edge_type_names, return_node_names)\u001b[0m\n\u001b[1;32m   1019\u001b[0m \u001b[38;5;28;01mdef\u001b[39;00m \u001b[38;5;21mpredict_proba\u001b[39m(\n\u001b[1;32m   1020\u001b[0m     \u001b[38;5;28mself\u001b[39m,\n\u001b[1;32m   1021\u001b[0m     graph: Graph,\n\u001b[0;32m   (...)\u001b[0m\n\u001b[1;32m   1039\u001b[0m     return_node_names: \u001b[38;5;28mbool\u001b[39m \u001b[38;5;241m=\u001b[39m \u001b[38;5;28;01mTrue\u001b[39;00m,\n\u001b[1;32m   1040\u001b[0m ) \u001b[38;5;241m-\u001b[39m\u001b[38;5;241m>\u001b[39m Union[np\u001b[38;5;241m.\u001b[39mndarray, pd\u001b[38;5;241m.\u001b[39mDataFrame, Iterator[np\u001b[38;5;241m.\u001b[39mndarray]]:\n\u001b[1;32m   1041\u001b[0m \u001b[38;5;250m    \u001b[39m\u001b[38;5;124;03m\"\"\"Execute predictions on the provided graph.\u001b[39;00m\n\u001b[1;32m   1042\u001b[0m \n\u001b[1;32m   1043\u001b[0m \u001b[38;5;124;03m    Parameters\u001b[39;00m\n\u001b[0;32m   (...)\u001b[0m\n\u001b[1;32m   1072\u001b[0m \u001b[38;5;124;03m        requested for a prediction dataframe to be returned.\u001b[39;00m\n\u001b[1;32m   1073\u001b[0m \u001b[38;5;124;03m    \"\"\"\u001b[39;00m\n\u001b[0;32m-> 1074\u001b[0m     predictions: Union[Iterator[np\u001b[38;5;241m.\u001b[39mndarray], np\u001b[38;5;241m.\u001b[39mndarray] \u001b[38;5;241m=\u001b[39m \u001b[38;5;28;43msuper\u001b[39;49m\u001b[43m(\u001b[49m\u001b[43m)\u001b[49m\u001b[38;5;241;43m.\u001b[39;49m\u001b[43mpredict_proba\u001b[49m\u001b[43m(\u001b[49m\n\u001b[1;32m   1075\u001b[0m \u001b[43m        \u001b[49m\u001b[43mgraph\u001b[49m\u001b[43m,\u001b[49m\n\u001b[1;32m   1076\u001b[0m \u001b[43m        \u001b[49m\u001b[43msupport\u001b[49m\u001b[38;5;241;43m=\u001b[39;49m\u001b[43msupport\u001b[49m\u001b[43m,\u001b[49m\n\u001b[1;32m   1077\u001b[0m \u001b[43m        \u001b[49m\u001b[43mnode_features\u001b[49m\u001b[38;5;241;43m=\u001b[39;49m\u001b[43mnode_features\u001b[49m\u001b[43m,\u001b[49m\n\u001b[1;32m   1078\u001b[0m \u001b[43m        \u001b[49m\u001b[43mnode_type_features\u001b[49m\u001b[38;5;241;43m=\u001b[39;49m\u001b[43mnode_type_features\u001b[49m\u001b[43m,\u001b[49m\n\u001b[1;32m   1079\u001b[0m \u001b[43m        \u001b[49m\u001b[43medge_type_features\u001b[49m\u001b[38;5;241;43m=\u001b[39;49m\u001b[43medge_type_features\u001b[49m\u001b[43m,\u001b[49m\n\u001b[1;32m   1080\u001b[0m \u001b[43m        \u001b[49m\u001b[43medge_features\u001b[49m\u001b[38;5;241;43m=\u001b[39;49m\u001b[38;5;28;43mself\u001b[39;49m\u001b[38;5;241;43m.\u001b[39;49m\u001b[43medge_features_check\u001b[49m\u001b[43m(\u001b[49m\u001b[43medge_features\u001b[49m\u001b[43m)\u001b[49m\u001b[43m,\u001b[49m\n\u001b[1;32m   1081\u001b[0m \u001b[43m    \u001b[49m\u001b[43m)\u001b[49m\n\u001b[1;32m   1083\u001b[0m     \u001b[38;5;28;01mif\u001b[39;00m \u001b[38;5;28misinstance\u001b[39m(predictions, np\u001b[38;5;241m.\u001b[39mndarray) \u001b[38;5;129;01mand\u001b[39;00m path \u001b[38;5;129;01mis\u001b[39;00m \u001b[38;5;129;01mnot\u001b[39;00m \u001b[38;5;28;01mNone\u001b[39;00m:\n\u001b[1;32m   1084\u001b[0m         predictions \u001b[38;5;241m=\u001b[39m [predictions]\n",
      "File \u001b[0;32m~/Documents/VIMSS/ontology/KG-Hub/KG-Microbe/kg-microbe/notebooks/venv/lib/python3.10/site-packages/embiggen/utils/abstract_models/abstract_classifier_model.py:1958\u001b[0m, in \u001b[0;36mAbstractClassifierModel.predict_proba\u001b[0;34m(self, graph, support, node_features, node_type_features, edge_type_features, edge_features)\u001b[0m\n\u001b[1;32m   1955\u001b[0m \u001b[38;5;28mself\u001b[39m\u001b[38;5;241m.\u001b[39m_check_nan(edge_type_features, \u001b[38;5;124m\"\u001b[39m\u001b[38;5;124medge type features\u001b[39m\u001b[38;5;124m\"\u001b[39m)\n\u001b[1;32m   1957\u001b[0m \u001b[38;5;28;01mif\u001b[39;00m \u001b[38;5;28mself\u001b[39m\u001b[38;5;241m.\u001b[39m_training_graph_density \u001b[38;5;241m>\u001b[39m support\u001b[38;5;241m.\u001b[39mget_density() \u001b[38;5;241m*\u001b[39m \u001b[38;5;241m3.0\u001b[39m \u001b[38;5;129;01mor\u001b[39;00m \u001b[38;5;28mself\u001b[39m\u001b[38;5;241m.\u001b[39m_training_graph_density \u001b[38;5;241m<\u001b[39m support\u001b[38;5;241m.\u001b[39mget_density() \u001b[38;5;241m/\u001b[39m \u001b[38;5;241m3.0\u001b[39m:\n\u001b[0;32m-> 1958\u001b[0m     \u001b[38;5;28;01mraise\u001b[39;00m \u001b[38;5;167;01mValueError\u001b[39;00m(\n\u001b[1;32m   1959\u001b[0m         \u001b[38;5;124mf\u001b[39m\u001b[38;5;124m\"\u001b[39m\u001b[38;5;124mThe density of the support graph has changed too much from the training graph. \u001b[39m\u001b[38;5;124m\"\u001b[39m\n\u001b[1;32m   1960\u001b[0m         \u001b[38;5;124mf\u001b[39m\u001b[38;5;124m\"\u001b[39m\u001b[38;5;124mThe density of the training graph was \u001b[39m\u001b[38;5;132;01m{\u001b[39;00m\u001b[38;5;28mself\u001b[39m\u001b[38;5;241m.\u001b[39m_training_graph_density\u001b[38;5;132;01m}\u001b[39;00m\u001b[38;5;124m while the \u001b[39m\u001b[38;5;124m\"\u001b[39m\n\u001b[1;32m   1961\u001b[0m         \u001b[38;5;124mf\u001b[39m\u001b[38;5;124m\"\u001b[39m\u001b[38;5;124mdensity of the support graph is \u001b[39m\u001b[38;5;132;01m{\u001b[39;00msupport\u001b[38;5;241m.\u001b[39mget_density()\u001b[38;5;132;01m}\u001b[39;00m\u001b[38;5;124m. This may be due to a \u001b[39m\u001b[38;5;124m\"\u001b[39m\n\u001b[1;32m   1962\u001b[0m         \u001b[38;5;124mf\u001b[39m\u001b[38;5;124m\"\u001b[39m\u001b[38;5;124mchange in the graph structure or the provided support graph is not the one used \u001b[39m\u001b[38;5;124m\"\u001b[39m\n\u001b[1;32m   1963\u001b[0m         \u001b[38;5;124mf\u001b[39m\u001b[38;5;124m\"\u001b[39m\u001b[38;5;124mduring training. If you are using the same graph, please do provide the same \u001b[39m\u001b[38;5;124m\"\u001b[39m\n\u001b[1;32m   1964\u001b[0m         \u001b[38;5;124mf\u001b[39m\u001b[38;5;124m\"\u001b[39m\u001b[38;5;124msupport graph during prediction as you did during training.\u001b[39m\u001b[38;5;124m\"\u001b[39m\n\u001b[1;32m   1965\u001b[0m     )\n\u001b[1;32m   1967\u001b[0m \u001b[38;5;28;01mtry\u001b[39;00m:\n\u001b[1;32m   1968\u001b[0m     predictions: Union[np\u001b[38;5;241m.\u001b[39mndarray, Iterator[np\u001b[38;5;241m.\u001b[39mndarray]] \u001b[38;5;241m=\u001b[39m \u001b[38;5;28mself\u001b[39m\u001b[38;5;241m.\u001b[39m_predict_proba(\n\u001b[1;32m   1969\u001b[0m         graph\u001b[38;5;241m=\u001b[39mgraph,\n\u001b[1;32m   1970\u001b[0m         support\u001b[38;5;241m=\u001b[39msupport,\n\u001b[0;32m   (...)\u001b[0m\n\u001b[1;32m   1980\u001b[0m         ),\n\u001b[1;32m   1981\u001b[0m     )\n",
      "\u001b[0;31mValueError\u001b[0m: The density of the support graph has changed too much from the training graph. The density of the training graph was 2.0385230173922012e-06 while the density of the support graph is 3.417185360828474e-07. This may be due to a change in the graph structure or the provided support graph is not the one used during training. If you are using the same graph, please do provide the same support graph during prediction as you did during training."
     ]
    }
   ],
   "source": [
    "%%time\n",
    "# A perfect model should correctly predict the non-existance\n",
    "# of all of these edges.\n",
    "model.predict_proba(\n",
    "    graph=kg_microbe.sample_negative_graph(number_of_negative_samples=test.get_number_of_edges()),\n",
    "    node_features=embedding,\n",
    "    return_predictions_dataframe=True\n",
    ")"
   ]
  }
 ],
 "metadata": {
  "kernelspec": {
   "display_name": "Python 3 (ipykernel)",
   "language": "python",
   "name": "python3"
  },
  "language_info": {
   "codemirror_mode": {
    "name": "ipython",
    "version": 3
   },
   "file_extension": ".py",
   "mimetype": "text/x-python",
   "name": "python",
   "nbconvert_exporter": "python",
   "pygments_lexer": "ipython3",
   "version": "3.10.11"
  }
 },
 "nbformat": 4,
 "nbformat_minor": 5
}
