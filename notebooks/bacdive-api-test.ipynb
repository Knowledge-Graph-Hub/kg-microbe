{
 "cells": [
  {
   "cell_type": "markdown",
   "metadata": {},
   "source": [
    "## Testing Bacdive API"
   ]
  },
  {
   "cell_type": "code",
   "execution_count": 1,
   "metadata": {
    "tags": []
   },
   "outputs": [],
   "source": [
    "import bacdive\n",
    "import pandas as pd\n",
    "import numpy as np"
   ]
  },
  {
   "cell_type": "code",
   "execution_count": 43,
   "metadata": {},
   "outputs": [
    {
     "data": {
      "text/plain": [
       "(126544, 9)"
      ]
     },
     "execution_count": 43,
     "metadata": {},
     "output_type": "execute_result"
    }
   ],
   "source": [
    "bacdive_csv = pd.read_csv(\"./bacdive.csv\", sep=\",\")\n",
    "bacdive_csv.shape"
   ]
  },
  {
   "cell_type": "code",
   "execution_count": 6,
   "metadata": {},
   "outputs": [],
   "source": [
    "with open('up.txt', 'r') as file:\n",
    "    creds = [line.rstrip() for line in file]"
   ]
  },
  {
   "cell_type": "code",
   "execution_count": 8,
   "metadata": {},
   "outputs": [
    {
     "name": "stdout",
     "output_type": "stream",
     "text": [
      "-- Authentication successful --\n"
     ]
    }
   ],
   "source": [
    "client = bacdive.BacdiveClient(creds[0], creds[1])"
   ]
  },
  {
   "cell_type": "code",
   "execution_count": 9,
   "metadata": {
    "tags": []
   },
   "outputs": [
    {
     "data": {
      "text/plain": [
       "15"
      ]
     },
     "execution_count": 9,
     "metadata": {},
     "output_type": "execute_result"
    }
   ],
   "source": [
    "count = client.search(taxonomy='Bacillus subtilis subtilis')\n",
    "count"
   ]
  },
  {
   "cell_type": "code",
   "execution_count": 10,
   "metadata": {
    "tags": []
   },
   "outputs": [
    {
     "name": "stdout",
     "output_type": "stream",
     "text": [
      "{'General': {'@ref': 3381, 'BacDive-ID': 1185, 'DSM-Number': 8773, 'keywords': ['Bacteria', 'human pathogen'], 'description': 'Bacillus subtilis subsp. subtilis 1012 is a human pathogen of the family Bacillaceae.', 'NCBI tax id': {'NCBI tax id': 135461, 'Matching level': 'subspecies'}, 'doi': '10.13145/bacdive1185.20221219.7.1'}, 'Name and taxonomic classification': {'LPSN': {'@ref': 20215, 'description': 'domain/bacteria', 'keyword': 'phylum/bacillota', 'domain': 'Bacteria', 'phylum': 'Bacillota', 'class': 'Bacilli', 'order': 'Caryophanales', 'family': 'Bacillaceae', 'genus': 'Bacillus', 'species': 'Bacillus subtilis subsp. subtilis', 'full scientific name': '<I>Bacillus</I> <I>subtilis</I> subsp. <I>subtilis</I> (Ehrenberg 1835) Nakamura et al. 1999'}, '@ref': 3381, 'domain': 'Bacteria', 'phylum': 'Firmicutes', 'class': 'Bacilli', 'order': 'Bacillales', 'family': 'Bacillaceae', 'genus': 'Bacillus', 'species': 'Bacillus subtilis subsp. subtilis', 'full scientific name': 'Bacillus subtilis subsp. subtilis (Ehrenberg 1835) Nakamura et al. 1999', 'strain designation': '1012 (pHP13), pHP13, 1012', 'type strain': 'no'}, 'Morphology': {}, 'Culture and growth conditions': {}, 'Physiology and metabolism': {}, 'Isolation, sampling and environmental information': {}, 'Safety information': {'risk assessment': {'@ref': 3381, 'pathogenicity human': 'yes', 'biosafety level': '1', 'biosafety level comment': 'Risk group (German classification)'}}, 'Sequence information': {}, 'External links': {'@ref': 3381, 'culture collection no.': 'DSM 8773, BGSC 1E50', 'straininfo link': {'@ref': 20218, 'passport': 'http://www.straininfo.net/strains/340012'}}, 'Reference': [{'@id': 3381, 'authors': 'Curators of the DSMZ', 'catalogue': 'Leibniz Institut DSMZ-Deutsche Sammlung von Mikroorganismen und Zellkulturen GmbH (DSM 8773)', 'doi/url': 'https://www.dsmz.de/collection/catalogue/details/culture/DSM-8773'}, {'@id': 20215, 'authors': 'Parte, A.C., Sardà Carbasse, J., Meier-Kolthoff, J.P., Reimer, L.C. and Göker, M.', 'title': 'List of Prokaryotic names with Standing in Nomenclature (LPSN) moves to the DSMZ', 'doi/url': '10.1099/ijsem.0.004332'}, {'@id': 20218, 'authors': 'Verslyppe, B., De Smet, W., De Baets, B., De Vos, P., Dawyndt P.', 'title': 'StrainInfo introduces electronic passports for microorganisms.', 'journal': 'Syst Appl Microbiol. 37: 42-50 2014', 'doi/url': '10.1016/j.syapm.2013.11.002', 'pubmed': 24321274}]}\n"
     ]
    }
   ],
   "source": [
    "##example result from search - no morphology or growth info in the example but search retrieves everything available\n",
    "for strain in client.retrieve():\n",
    "    print(strain)\n",
    "    break"
   ]
  },
  {
   "cell_type": "code",
   "execution_count": 14,
   "metadata": {
    "tags": []
   },
   "outputs": [
    {
     "name": "stdout",
     "output_type": "stream",
     "text": [
      "1185\n",
      "1184\n",
      "1183\n",
      "1182\n",
      "1181\n",
      "1178\n",
      "1169\n",
      "1168\n",
      "1167\n",
      "1166\n",
      "1165\n",
      "1164\n",
      "1163\n",
      "1162\n",
      "1161\n"
     ]
    }
   ],
   "source": [
    "##retrieve all Bacdive IDs from taxonomy\n",
    "for strain in client.retrieve(['BacDive-ID']):\n",
    "    print(strain[list(strain)[0]][0]['BacDive-ID'])"
   ]
  },
  {
   "cell_type": "code",
   "execution_count": 30,
   "metadata": {
    "tags": []
   },
   "outputs": [
    {
     "name": "stdout",
     "output_type": "stream",
     "text": [
      "Counter({'Myroides odoratimimus': 64, 'Myroides odoratus': 20, 'Myroides sp.': 4, 'Myroides ceti': 3, 'Myroides profundi': 2, 'Myroides odoratimimus subsp. odoratimimus': 1, 'Myroides pelagicus': 1, 'Myroides aquimaris': 1, 'Myroides anatoliensis': 1, 'Myroides cloacae': 1, 'Myroides indicus': 1, 'Myroides odoratimimus subsp. xuanwuensis': 1, 'Myroides guanonis': 1, 'Myroides phaeus': 1, 'Myroides marinus': 1, 'Myroides gitamensis': 1, 'Myroides albus': 1, 'Myroides fluvii': 1, 'Myroides injenensis': 1})\n"
     ]
    }
   ],
   "source": [
    "##Species example from tutorial\n",
    "client.search(taxonomy='Myroides')\n",
    "species = []\n",
    "for strain in client.retrieve(['species']):\n",
    "    species.append(strain[list(strain)[0]][0]['species'])\n",
    "from collections import Counter\n",
    "print(Counter(species))"
   ]
  },
  {
   "cell_type": "code",
   "execution_count": 12,
   "metadata": {
    "tags": []
   },
   "outputs": [
    {
     "data": {
      "text/plain": [
       "1"
      ]
     },
     "execution_count": 12,
     "metadata": {},
     "output_type": "execute_result"
    }
   ],
   "source": [
    "#search by ID - retrieve everything\n",
    "query1 = {\"id\": 24493}\n",
    "client.search(**query1)"
   ]
  },
  {
   "cell_type": "code",
   "execution_count": 13,
   "metadata": {
    "tags": []
   },
   "outputs": [
    {
     "name": "stdout",
     "output_type": "stream",
     "text": [
      "{'24493': [{'NCBI tax id': [{'NCBI tax id': 60890, 'Matching level': 'species'}, {'NCBI tax id': 1423144, 'Matching level': 'strain'}]}, {'NCBI tax id': 60890}, {'NCBI tax id': 1423144}, {'Physiology and metabolism': {'metabolite utilization': [{'@ref': 68369, 'Chebi-ID': 27689, 'metabolite': 'decanoate', 'utilization activity': '-', 'kind of utilization tested': 'assimilation'}, {'@ref': 68369, 'Chebi-ID': 5291, 'metabolite': 'gelatin', 'utilization activity': '-', 'kind of utilization tested': 'hydrolysis'}, {'@ref': 68369, 'Chebi-ID': 4853, 'metabolite': 'esculin', 'utilization activity': '-', 'kind of utilization tested': 'hydrolysis'}, {'@ref': 68369, 'Chebi-ID': 16199, 'metabolite': 'urea', 'utilization activity': '-', 'kind of utilization tested': 'hydrolysis'}, {'@ref': 68369, 'Chebi-ID': 29016, 'metabolite': 'arginine', 'utilization activity': '-', 'kind of utilization tested': 'hydrolysis'}, {'@ref': 68369, 'Chebi-ID': 17634, 'metabolite': 'D-glucose', 'utilization activity': '-', 'kind of utilization tested': 'fermentation'}, {'@ref': 68369, 'Chebi-ID': 27897, 'metabolite': 'tryptophan', 'utilization activity': '-', 'kind of utilization tested': 'energy source'}, {'@ref': 68369, 'Chebi-ID': 17632, 'metabolite': 'nitrate', 'utilization activity': '-', 'kind of utilization tested': 'reduction'}], 'metabolite production': {'@ref': 68369, 'Chebi-ID': 35581, 'metabolite': 'indole', 'production': 'no'}, 'metabolite tests': {'@ref': 68369, 'Chebi-ID': 35581, 'metabolite': 'indole', 'indole test': '-'}, 'enzymes': [{'@ref': 20729, 'value': 'catalase', 'activity': '+', 'ec': '1.11.1.6'}, {'@ref': 20729, 'value': 'cytochrome-c oxidase', 'activity': '+', 'ec': '1.9.3.1'}, {'@ref': 68369, 'value': 'gelatinase', 'activity': '-'}, {'@ref': 68369, 'value': 'beta-glucosidase', 'activity': '-', 'ec': '3.2.1.21'}, {'@ref': 68369, 'value': 'urease', 'activity': '-', 'ec': '3.5.1.5'}, {'@ref': 68369, 'value': 'arginine dihydrolase', 'activity': '-', 'ec': '3.5.3.6'}], 'API 20NE': [{'@ref': 20729, 'NO3': '-', 'TRP': '-', 'GLU_ Ferm': '-', 'ADH Arg': '-', 'URE': '-', 'ESC': '-', 'GEL': '-', 'PNPG': '+', 'GLU_ Assim': '-', 'ARA': '-', 'MNE': '-', 'MAN': '+/-', 'NAG': '+/-', 'MAL': '+/-', 'GNT': '-', 'CAP': '-', 'ADI': '-', 'MLT': '+/-', 'CIT': '-', 'PAC': '-'}, {'@ref': 20729, 'NO3': '-', 'TRP': '-', 'GLU_ Ferm': '-', 'ADH Arg': '-', 'URE': '-', 'ESC': '-', 'GEL': '-', 'PNPG': '+/-', 'GLU_ Assim': '+', 'ARA': '+', 'MNE': '+', 'MAN': '+', 'NAG': '+', 'MAL': '+', 'GNT': '+', 'CAP': '-', 'ADI': '+', 'MLT': '+', 'CIT': '+', 'PAC': '+/-'}]}}]}\n"
     ]
    }
   ],
   "source": [
    "##Filter on what to retrieve\n",
    "filter = ['NCBI tax id', 'Physiology and metabolism']\n",
    "result = client.retrieve(filter)\n",
    "print({k:v for x in result for k,v in x.items()})"
   ]
  },
  {
   "cell_type": "code",
   "execution_count": 14,
   "metadata": {},
   "outputs": [],
   "source": [
    "#search multiple IDs\n",
    "query2 = {\"id\": \"24493;12;132485\"}\n",
    "query2 = {\"id\": [24493, 12, 132485]}"
   ]
  },
  {
   "cell_type": "code",
   "execution_count": 18,
   "metadata": {},
   "outputs": [],
   "source": [
    "##search by other fields\n",
    "# Search by culture collection number\n",
    "query = {\"culturecolno\": \"DSM 26640\"}\n",
    "\n",
    "# Search by taxonomy (either as full name or as list):\n",
    "# With genus name, species epithet (optional), and subspecies (optional).\n",
    "query = {\"taxonomy\": \"Bacillus subtilis subsp. subtilis\"}\n",
    "query = {\"taxonomy\": (\"Escherichia\", \"coli\")}\n",
    "\n",
    "# Search by sequence accession numbers:\n",
    "query = {\"16s\": \"AF000162\"} # 16S sequence\n",
    "query = {\"genome\": \"GCA_006094295\"} # genome sequence"
   ]
  },
  {
   "cell_type": "code",
   "execution_count": 35,
   "metadata": {},
   "outputs": [
    {
     "name": "stdout",
     "output_type": "stream",
     "text": [
      "ERROR: BacDive API error\n",
      "Page not found\n"
     ]
    },
    {
     "data": {
      "text/plain": [
       "0"
      ]
     },
     "execution_count": 35,
     "metadata": {},
     "output_type": "execute_result"
    }
   ],
   "source": [
    "#search by ID - retrieve everything\n",
    "query1 = {\"taxonomy\": \"\"}\n",
    "client.search(**query1)"
   ]
  },
  {
   "cell_type": "code",
   "execution_count": 40,
   "metadata": {},
   "outputs": [
    {
     "data": {
      "text/plain": [
       "1546"
      ]
     },
     "execution_count": 40,
     "metadata": {},
     "output_type": "execute_result"
    }
   ],
   "source": [
    "##Species example from tutorial\n",
    "client.search(taxonomy='Bacillus')\n"
   ]
  },
  {
   "cell_type": "code",
   "execution_count": 41,
   "metadata": {},
   "outputs": [
    {
     "name": "stdout",
     "output_type": "stream",
     "text": [
      "Counter({'Bacillus sp.': 573, 'Bacillus subtilis': 264, 'Bacillus cereus': 120, 'Bacillus licheniformis': 114, 'Bacillus thuringiensis': 86, 'Bacillus pumilus': 70, 'Bacillus mycoides': 40, 'Bacillus amyloliquefaciens': 22, 'Bacillus subtilis subsp. subtilis': 15, 'Bacillus atrophaeus': 14, 'Bacillus benzoevorans': 14, 'Bacillus mojavensis': 11, 'Bacillus thermoamylovorans': 11, 'Bacillus spizizenii': 10, 'Bacillus macroides': 8, 'Bacillus badius': 7, 'Bacillus smithii': 6, 'Bacillus halotolerans': 6, 'Bacillus pseudalcaliphilus': 5, 'Bacillus pseudomycoides': 5, 'Bacillus aneurinilyticus': 4, 'Bacillus aquiflavi': 4, 'Bacillus vallismortis': 3, 'Bacillus velezensis': 3, 'Bacillus safensis subsp. safensis': 3, 'Bacillus altitudinis': 3, 'Bacillus sonorensis': 3, 'Bacillus tequilensis': 3, 'Bacillus toyonensis': 3, 'Bacillus infernus': 2, 'Bacillus inaquosorum': 2, 'Bacillus infantis': 2, 'Bacillus horti': 2, 'Bacillus solimangrovi': 2, 'Bacillus oleivorans': 2, 'Bacillus pacificus': 2, 'Bacillus thermocloacae': 1, 'Bacillus arseniciselenatis': 1, 'Bacillus cytotoxicus': 1, 'Bacillus manliponensis': 1, 'Bacillus timonensis': 1, 'Bacillus purgationiresistens': 1, 'Bacillus siamensis': 1, 'Bacillus chungangensis': 1, 'Bacillus tianmuensis': 1, 'Bacillus coahuilensis': 1, 'Bacillus decisifrondis': 1, 'Bacillus taeanensis': 1, 'Bacillus alveayuensis': 1, 'Bacillus seohaeanensis': 1, 'Bacillus carboniphilus': 1, 'Bacillus methanolicus': 1, 'Bacillus acidicola': 1, 'Bacillus massilioalgeriensis': 1, 'Bacillus pakistanensis': 1, 'Bacillus xiamenensis': 1, 'Bacillus cihuensis': 1, 'Bacillus fengqiuensis': 1, 'Bacillus tianshenii': 1, 'Bacillus pervagus': 1, 'Bacillus massiliogorillae': 1, 'Bacillus bingmayongensis': 1, 'Bacillus safensis': 1, 'Bacillus isabeliae': 1, 'Bacillus songklensis': 1, 'Bacillus thermotolerans': 1, 'Bacillus canaveralius': 1, 'Bacillus capparidis': 1, 'Bacillus wiedmannii': 1, 'Bacillus mesophilus': 1, 'Bacillus niameyensis': 1, 'Bacillus rubiinfantis': 1, 'Bacillus ndiopicus': 1, 'Bacillus ectoiniformans': 1, 'Bacillus gobiensis': 1, 'Bacillus testis': 1, 'Bacillus maroccanus': 1, 'Bacillus luti': 1, 'Bacillus mobilis': 1, 'Bacillus albus': 1, 'Bacillus tropicus': 1, 'Bacillus paranthracis': 1, 'Bacillus piscicola': 1, 'Bacillus zhangzhouensis': 1, 'Bacillus australimaris': 1, 'Bacillus haynesii': 1, 'Bacillus swezeyi': 1, 'Bacillus nakamurai': 1, 'Bacillus wudalianchiensis': 1, 'Bacillus gaemokensis': 1, 'Bacillus paramycoides': 1, 'Bacillus nitratireducens': 1, 'Bacillus proteolyticus': 1, 'Bacillus flavothermus': 1, 'Bacillus massiliigabonensis': 1, 'Bacillus arbutinivorans': 1, 'Bacillus shivajii': 1, 'Bacillus oryzicola': 1, 'Bacillus manusensis': 1, 'Bacillus kexueae': 1, 'Bacillus marinisedimentorum': 1, 'Bacillus spongiae': 1, 'Bacillus dakarensis': 1, 'Bacillus sinesaloumensis': 1, 'Bacillus phocaeensis': 1, 'Bacillus salitolerans': 1, 'Bacillus cheonanensis': 1, 'Bacillus aequororis': 1, 'Bacillus mesophilum': 1, 'Bacillus thaonhiensis': 1, 'Bacillus alkalicola': 1, 'Bacillus solitudinis': 1, 'Bacillus salis': 1, 'Bacillus mediterraneensis': 1, 'Bacillus alkalisoli': 1, 'Bacillus coreaensis': 1, 'Bacillus alkalicellulosilyticus': 1, 'Bacillus salacetis': 1, 'Bacillus yapensis': 1, 'Bacillus xiapuensis': 1, 'Bacillus telluris': 1, 'Bacillus piscis': 1, 'Bacillus stercoris': 1, 'Bacillus suaedae': 1, 'Bacillus rhizoplanae': 1, 'Bacillus anthracis': 1, 'Bacillus sanguinis': 1, 'Bacillus salinus': 1, 'Bacillus paralicheniformis': 1, 'Bacillus fungorum': 1, 'Bacillus glycinifermentans': 1, 'Bacillus enclensis': 1, 'Bacillus paramobilis': 1, 'Bacillus hominis': 1, 'Bacillus tepidiphilus': 1, 'Bacillus rugosus': 1, 'Bacillus aerolatus': 1, 'Bacillus cabrialesii': 1})\n"
     ]
    }
   ],
   "source": [
    "species = []\n",
    "for strain in client.retrieve(['species']):\n",
    "    species.append(strain[list(strain)[0]][0]['species'])\n",
    "from collections import Counter\n",
    "print(Counter(species))"
   ]
  }
 ],
 "metadata": {
  "kernelspec": {
   "display_name": "Python 3",
   "language": "python",
   "name": "python3"
  },
  "language_info": {
   "codemirror_mode": {
    "name": "ipython",
    "version": 3
   },
   "file_extension": ".py",
   "mimetype": "text/x-python",
   "name": "python",
   "nbconvert_exporter": "python",
   "pygments_lexer": "ipython3",
   "version": "3.7.0b4"
  }
 },
 "nbformat": 4,
 "nbformat_minor": 5
}
