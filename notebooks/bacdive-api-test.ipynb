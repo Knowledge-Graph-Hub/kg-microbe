{
 "cells": [
  {
   "cell_type": "markdown",
   "metadata": {},
   "source": [
    "## Testing Bacdive API"
   ]
  },
  {
   "cell_type": "code",
   "execution_count": 1,
   "metadata": {
    "tags": []
   },
   "outputs": [],
   "source": [
    "import bacdive\n",
    "import pandas as pd\n",
    "import numpy as np"
   ]
  },
  {
   "cell_type": "code",
   "execution_count": 43,
   "metadata": {},
   "outputs": [
    {
     "data": {
      "text/plain": [
       "(126544, 9)"
      ]
     },
     "execution_count": 43,
     "metadata": {},
     "output_type": "execute_result"
    }
   ],
   "source": [
    "bacdive_csv = pd.read_csv(\"./bacdive.csv\", sep=\",\")\n",
    "bacdive_csv.shape"
   ]
  },
  {
   "cell_type": "code",
   "execution_count": 54,
   "metadata": {},
   "outputs": [],
   "source": [
    "with open('up.txt', 'r') as file:\n",
    "    creds = [line.rstrip() for line in file]"
   ]
  },
  {
   "cell_type": "code",
   "execution_count": 55,
   "metadata": {},
   "outputs": [
    {
     "name": "stdout",
     "output_type": "stream",
     "text": [
      "-- Authentication successful --\n"
     ]
    }
   ],
   "source": [
    "client = bacdive.BacdiveClient(creds[0], creds[1])"
   ]
  },
  {
   "cell_type": "code",
   "execution_count": 56,
   "metadata": {
    "tags": []
   },
   "outputs": [
    {
     "data": {
      "text/plain": [
       "15"
      ]
     },
     "execution_count": 56,
     "metadata": {},
     "output_type": "execute_result"
    }
   ],
   "source": [
    "count = client.search(taxonomy='Bacillus subtilis subtilis')\n",
    "count"
   ]
  },
  {
   "cell_type": "code",
   "execution_count": 10,
   "metadata": {
    "tags": []
   },
   "outputs": [
    {
     "name": "stdout",
     "output_type": "stream",
     "text": [
      "{'General': {'@ref': 3381, 'BacDive-ID': 1185, 'DSM-Number': 8773, 'keywords': ['Bacteria', 'human pathogen'], 'description': 'Bacillus subtilis subsp. subtilis 1012 is a human pathogen of the family Bacillaceae.', 'NCBI tax id': {'NCBI tax id': 135461, 'Matching level': 'subspecies'}, 'doi': '10.13145/bacdive1185.20221219.7.1'}, 'Name and taxonomic classification': {'LPSN': {'@ref': 20215, 'description': 'domain/bacteria', 'keyword': 'phylum/bacillota', 'domain': 'Bacteria', 'phylum': 'Bacillota', 'class': 'Bacilli', 'order': 'Caryophanales', 'family': 'Bacillaceae', 'genus': 'Bacillus', 'species': 'Bacillus subtilis subsp. subtilis', 'full scientific name': '<I>Bacillus</I> <I>subtilis</I> subsp. <I>subtilis</I> (Ehrenberg 1835) Nakamura et al. 1999'}, '@ref': 3381, 'domain': 'Bacteria', 'phylum': 'Firmicutes', 'class': 'Bacilli', 'order': 'Bacillales', 'family': 'Bacillaceae', 'genus': 'Bacillus', 'species': 'Bacillus subtilis subsp. subtilis', 'full scientific name': 'Bacillus subtilis subsp. subtilis (Ehrenberg 1835) Nakamura et al. 1999', 'strain designation': '1012 (pHP13), pHP13, 1012', 'type strain': 'no'}, 'Morphology': {}, 'Culture and growth conditions': {}, 'Physiology and metabolism': {}, 'Isolation, sampling and environmental information': {}, 'Safety information': {'risk assessment': {'@ref': 3381, 'pathogenicity human': 'yes', 'biosafety level': '1', 'biosafety level comment': 'Risk group (German classification)'}}, 'Sequence information': {}, 'External links': {'@ref': 3381, 'culture collection no.': 'DSM 8773, BGSC 1E50', 'straininfo link': {'@ref': 20218, 'passport': 'http://www.straininfo.net/strains/340012'}}, 'Reference': [{'@id': 3381, 'authors': 'Curators of the DSMZ', 'catalogue': 'Leibniz Institut DSMZ-Deutsche Sammlung von Mikroorganismen und Zellkulturen GmbH (DSM 8773)', 'doi/url': 'https://www.dsmz.de/collection/catalogue/details/culture/DSM-8773'}, {'@id': 20215, 'authors': 'Parte, A.C., Sardà Carbasse, J., Meier-Kolthoff, J.P., Reimer, L.C. and Göker, M.', 'title': 'List of Prokaryotic names with Standing in Nomenclature (LPSN) moves to the DSMZ', 'doi/url': '10.1099/ijsem.0.004332'}, {'@id': 20218, 'authors': 'Verslyppe, B., De Smet, W., De Baets, B., De Vos, P., Dawyndt P.', 'title': 'StrainInfo introduces electronic passports for microorganisms.', 'journal': 'Syst Appl Microbiol. 37: 42-50 2014', 'doi/url': '10.1016/j.syapm.2013.11.002', 'pubmed': 24321274}]}\n"
     ]
    }
   ],
   "source": [
    "##example result from search - no morphology or growth info in the example but search retrieves everything available\n",
    "for strain in client.retrieve():\n",
    "    print(strain)\n",
    "    break"
   ]
  },
  {
   "cell_type": "code",
   "execution_count": 14,
   "metadata": {
    "tags": []
   },
   "outputs": [
    {
     "name": "stdout",
     "output_type": "stream",
     "text": [
      "1185\n",
      "1184\n",
      "1183\n",
      "1182\n",
      "1181\n",
      "1178\n",
      "1169\n",
      "1168\n",
      "1167\n",
      "1166\n",
      "1165\n",
      "1164\n",
      "1163\n",
      "1162\n",
      "1161\n"
     ]
    }
   ],
   "source": [
    "##retrieve all Bacdive IDs from taxonomy\n",
    "for strain in client.retrieve(['BacDive-ID']):\n",
    "    print(strain[list(strain)[0]][0]['BacDive-ID'])"
   ]
  },
  {
   "cell_type": "code",
   "execution_count": 30,
   "metadata": {
    "tags": []
   },
   "outputs": [
    {
     "name": "stdout",
     "output_type": "stream",
     "text": [
      "Counter({'Myroides odoratimimus': 64, 'Myroides odoratus': 20, 'Myroides sp.': 4, 'Myroides ceti': 3, 'Myroides profundi': 2, 'Myroides odoratimimus subsp. odoratimimus': 1, 'Myroides pelagicus': 1, 'Myroides aquimaris': 1, 'Myroides anatoliensis': 1, 'Myroides cloacae': 1, 'Myroides indicus': 1, 'Myroides odoratimimus subsp. xuanwuensis': 1, 'Myroides guanonis': 1, 'Myroides phaeus': 1, 'Myroides marinus': 1, 'Myroides gitamensis': 1, 'Myroides albus': 1, 'Myroides fluvii': 1, 'Myroides injenensis': 1})\n"
     ]
    }
   ],
   "source": [
    "##Species example from tutorial\n",
    "client.search(taxonomy='Myroides')\n",
    "species = []\n",
    "for strain in client.retrieve(['species']):\n",
    "    species.append(strain[list(strain)[0]][0]['species'])\n",
    "from collections import Counter\n",
    "print(Counter(species))"
   ]
  },
  {
   "cell_type": "code",
   "execution_count": 60,
   "metadata": {
    "tags": []
   },
   "outputs": [
    {
     "data": {
      "text/plain": [
       "1"
      ]
     },
     "execution_count": 60,
     "metadata": {},
     "output_type": "execute_result"
    }
   ],
   "source": [
    "#search by ID - retrieve everything\n",
    "query1 = {\"id\": 159652}\n",
    "client.search(**query1)"
   ]
  },
  {
   "cell_type": "code",
   "execution_count": 61,
   "metadata": {
    "tags": []
   },
   "outputs": [
    {
     "name": "stdout",
     "output_type": "stream",
     "text": [
      "{'159652': [{'NCBI tax id': {'NCBI tax id': 1960156, 'Matching level': 'species'}}, {'NCBI tax id': 1960156}, {'Culture and growth conditions': {'culture medium': {'@ref': 66502, 'name': 'R2A MEDIUM (DSMZ Medium 830)', 'growth': 'yes', 'link': 'https://mediadive.dsmz.de/medium/830', 'composition': 'Name: R2A MEDIUM (DSMZ Medium 830)\\nComposition:\\nAgar 15.0 g/l\\nCasamino acids 0.5 g/l\\nStarch 0.5 g/l\\nGlucose 0.5 g/l\\nProteose peptone 0.5 g/l\\nYeast extract 0.5 g/l\\nK2HPO4 0.3 g/l\\nNa-pyruvate 0.3 g/l\\nMgSO4 x 7 H2O 0.05 g/l\\nDistilled water'}, 'culture temp': {'@ref': 66502, 'growth': 'positive', 'type': 'growth', 'temperature': '20', 'range': 'psychrophilic'}}}, {'Physiology and metabolism': {}}]}\n"
     ]
    }
   ],
   "source": [
    "##Filter on what to retrieve\n",
    "filter = ['NCBI tax id', 'Physiology and metabolism','Culture and growth conditions']\n",
    "result = client.retrieve(filter)\n",
    "print({k:v for x in result for k,v in x.items()})"
   ]
  },
  {
   "cell_type": "code",
   "execution_count": 14,
   "metadata": {},
   "outputs": [],
   "source": [
    "#search multiple IDs\n",
    "query2 = {\"id\": \"24493;12;132485\"}\n",
    "query2 = {\"id\": [24493, 12, 132485]}"
   ]
  },
  {
   "cell_type": "code",
   "execution_count": 18,
   "metadata": {},
   "outputs": [],
   "source": [
    "##search by other fields\n",
    "# Search by culture collection number\n",
    "query = {\"culturecolno\": \"DSM 26640\"}\n",
    "\n",
    "# Search by taxonomy (either as full name or as list):\n",
    "# With genus name, species epithet (optional), and subspecies (optional).\n",
    "query = {\"taxonomy\": \"Bacillus subtilis subsp. subtilis\"}\n",
    "query = {\"taxonomy\": (\"Escherichia\", \"coli\")}\n",
    "\n",
    "# Search by sequence accession numbers:\n",
    "query = {\"16s\": \"AF000162\"} # 16S sequence\n",
    "query = {\"genome\": \"GCA_006094295\"} # genome sequence"
   ]
  },
  {
   "cell_type": "code",
   "execution_count": 35,
   "metadata": {},
   "outputs": [
    {
     "name": "stdout",
     "output_type": "stream",
     "text": [
      "ERROR: BacDive API error\n",
      "Page not found\n"
     ]
    },
    {
     "data": {
      "text/plain": [
       "0"
      ]
     },
     "execution_count": 35,
     "metadata": {},
     "output_type": "execute_result"
    }
   ],
   "source": [
    "#search by ID - retrieve everything\n",
    "query1 = {\"taxonomy\": \"\"}\n",
    "client.search(**query1)"
   ]
  },
  {
   "cell_type": "code",
   "execution_count": 40,
   "metadata": {},
   "outputs": [
    {
     "data": {
      "text/plain": [
       "1546"
      ]
     },
     "execution_count": 40,
     "metadata": {},
     "output_type": "execute_result"
    }
   ],
   "source": [
    "##Species example from tutorial\n",
    "client.search(taxonomy='Bacillus')\n"
   ]
  },
  {
   "cell_type": "code",
   "execution_count": 41,
   "metadata": {},
   "outputs": [
    {
     "name": "stdout",
     "output_type": "stream",
     "text": [
      "Counter({'Bacillus sp.': 573, 'Bacillus subtilis': 264, 'Bacillus cereus': 120, 'Bacillus licheniformis': 114, 'Bacillus thuringiensis': 86, 'Bacillus pumilus': 70, 'Bacillus mycoides': 40, 'Bacillus amyloliquefaciens': 22, 'Bacillus subtilis subsp. subtilis': 15, 'Bacillus atrophaeus': 14, 'Bacillus benzoevorans': 14, 'Bacillus mojavensis': 11, 'Bacillus thermoamylovorans': 11, 'Bacillus spizizenii': 10, 'Bacillus macroides': 8, 'Bacillus badius': 7, 'Bacillus smithii': 6, 'Bacillus halotolerans': 6, 'Bacillus pseudalcaliphilus': 5, 'Bacillus pseudomycoides': 5, 'Bacillus aneurinilyticus': 4, 'Bacillus aquiflavi': 4, 'Bacillus vallismortis': 3, 'Bacillus velezensis': 3, 'Bacillus safensis subsp. safensis': 3, 'Bacillus altitudinis': 3, 'Bacillus sonorensis': 3, 'Bacillus tequilensis': 3, 'Bacillus toyonensis': 3, 'Bacillus infernus': 2, 'Bacillus inaquosorum': 2, 'Bacillus infantis': 2, 'Bacillus horti': 2, 'Bacillus solimangrovi': 2, 'Bacillus oleivorans': 2, 'Bacillus pacificus': 2, 'Bacillus thermocloacae': 1, 'Bacillus arseniciselenatis': 1, 'Bacillus cytotoxicus': 1, 'Bacillus manliponensis': 1, 'Bacillus timonensis': 1, 'Bacillus purgationiresistens': 1, 'Bacillus siamensis': 1, 'Bacillus chungangensis': 1, 'Bacillus tianmuensis': 1, 'Bacillus coahuilensis': 1, 'Bacillus decisifrondis': 1, 'Bacillus taeanensis': 1, 'Bacillus alveayuensis': 1, 'Bacillus seohaeanensis': 1, 'Bacillus carboniphilus': 1, 'Bacillus methanolicus': 1, 'Bacillus acidicola': 1, 'Bacillus massilioalgeriensis': 1, 'Bacillus pakistanensis': 1, 'Bacillus xiamenensis': 1, 'Bacillus cihuensis': 1, 'Bacillus fengqiuensis': 1, 'Bacillus tianshenii': 1, 'Bacillus pervagus': 1, 'Bacillus massiliogorillae': 1, 'Bacillus bingmayongensis': 1, 'Bacillus safensis': 1, 'Bacillus isabeliae': 1, 'Bacillus songklensis': 1, 'Bacillus thermotolerans': 1, 'Bacillus canaveralius': 1, 'Bacillus capparidis': 1, 'Bacillus wiedmannii': 1, 'Bacillus mesophilus': 1, 'Bacillus niameyensis': 1, 'Bacillus rubiinfantis': 1, 'Bacillus ndiopicus': 1, 'Bacillus ectoiniformans': 1, 'Bacillus gobiensis': 1, 'Bacillus testis': 1, 'Bacillus maroccanus': 1, 'Bacillus luti': 1, 'Bacillus mobilis': 1, 'Bacillus albus': 1, 'Bacillus tropicus': 1, 'Bacillus paranthracis': 1, 'Bacillus piscicola': 1, 'Bacillus zhangzhouensis': 1, 'Bacillus australimaris': 1, 'Bacillus haynesii': 1, 'Bacillus swezeyi': 1, 'Bacillus nakamurai': 1, 'Bacillus wudalianchiensis': 1, 'Bacillus gaemokensis': 1, 'Bacillus paramycoides': 1, 'Bacillus nitratireducens': 1, 'Bacillus proteolyticus': 1, 'Bacillus flavothermus': 1, 'Bacillus massiliigabonensis': 1, 'Bacillus arbutinivorans': 1, 'Bacillus shivajii': 1, 'Bacillus oryzicola': 1, 'Bacillus manusensis': 1, 'Bacillus kexueae': 1, 'Bacillus marinisedimentorum': 1, 'Bacillus spongiae': 1, 'Bacillus dakarensis': 1, 'Bacillus sinesaloumensis': 1, 'Bacillus phocaeensis': 1, 'Bacillus salitolerans': 1, 'Bacillus cheonanensis': 1, 'Bacillus aequororis': 1, 'Bacillus mesophilum': 1, 'Bacillus thaonhiensis': 1, 'Bacillus alkalicola': 1, 'Bacillus solitudinis': 1, 'Bacillus salis': 1, 'Bacillus mediterraneensis': 1, 'Bacillus alkalisoli': 1, 'Bacillus coreaensis': 1, 'Bacillus alkalicellulosilyticus': 1, 'Bacillus salacetis': 1, 'Bacillus yapensis': 1, 'Bacillus xiapuensis': 1, 'Bacillus telluris': 1, 'Bacillus piscis': 1, 'Bacillus stercoris': 1, 'Bacillus suaedae': 1, 'Bacillus rhizoplanae': 1, 'Bacillus anthracis': 1, 'Bacillus sanguinis': 1, 'Bacillus salinus': 1, 'Bacillus paralicheniformis': 1, 'Bacillus fungorum': 1, 'Bacillus glycinifermentans': 1, 'Bacillus enclensis': 1, 'Bacillus paramobilis': 1, 'Bacillus hominis': 1, 'Bacillus tepidiphilus': 1, 'Bacillus rugosus': 1, 'Bacillus aerolatus': 1, 'Bacillus cabrialesii': 1})\n"
     ]
    }
   ],
   "source": [
    "species = []\n",
    "for strain in client.retrieve(['species']):\n",
    "    species.append(strain[list(strain)[0]][0]['species'])\n",
    "from collections import Counter\n",
    "print(Counter(species))"
   ]
  },
  {
   "cell_type": "code",
   "execution_count": 72,
   "metadata": {},
   "outputs": [],
   "source": [
    "strain_data = pd.read_csv(\"./strains_advsearch_bacdive_2023-03-10.csv\",sep=\",\")"
   ]
  },
  {
   "cell_type": "code",
   "execution_count": 73,
   "metadata": {},
   "outputs": [
    {
     "data": {
      "text/html": [
       "<div>\n",
       "<style scoped>\n",
       "    .dataframe tbody tr th:only-of-type {\n",
       "        vertical-align: middle;\n",
       "    }\n",
       "\n",
       "    .dataframe tbody tr th {\n",
       "        vertical-align: top;\n",
       "    }\n",
       "\n",
       "    .dataframe thead th {\n",
       "        text-align: right;\n",
       "    }\n",
       "</style>\n",
       "<table border=\"1\" class=\"dataframe\">\n",
       "  <thead>\n",
       "    <tr style=\"text-align: right;\">\n",
       "      <th></th>\n",
       "      <th>ID</th>\n",
       "      <th>species</th>\n",
       "      <th>designation_header</th>\n",
       "      <th>strain_number_header</th>\n",
       "      <th>is_type_strain_header</th>\n",
       "    </tr>\n",
       "  </thead>\n",
       "  <tbody>\n",
       "    <tr>\n",
       "      <th>0</th>\n",
       "      <td>159652</td>\n",
       "      <td>Abditibacterium utsteinense</td>\n",
       "      <td>R-68213</td>\n",
       "      <td>DSM 105287, LMG 29911</td>\n",
       "      <td>1</td>\n",
       "    </tr>\n",
       "    <tr>\n",
       "      <th>1</th>\n",
       "      <td>219</td>\n",
       "      <td>Abiotrophia defectiva</td>\n",
       "      <td>NaN</td>\n",
       "      <td>DSM 9849, ATCC 49176, CIP 103242, SC 10</td>\n",
       "      <td>1</td>\n",
       "    </tr>\n",
       "    <tr>\n",
       "      <th>2</th>\n",
       "      <td>135184</td>\n",
       "      <td>Abiotrophia defectiva</td>\n",
       "      <td>NaN</td>\n",
       "      <td>CIP 103895</td>\n",
       "      <td>0</td>\n",
       "    </tr>\n",
       "    <tr>\n",
       "      <th>3</th>\n",
       "      <td>135892</td>\n",
       "      <td>Abiotrophia defectiva</td>\n",
       "      <td>NaN</td>\n",
       "      <td>CIP 103892</td>\n",
       "      <td>0</td>\n",
       "    </tr>\n",
       "    <tr>\n",
       "      <th>4</th>\n",
       "      <td>135893</td>\n",
       "      <td>Abiotrophia defectiva</td>\n",
       "      <td>NaN</td>\n",
       "      <td>CIP 103893, ATCC 700209</td>\n",
       "      <td>0</td>\n",
       "    </tr>\n",
       "  </tbody>\n",
       "</table>\n",
       "</div>"
      ],
      "text/plain": [
       "       ID                      species designation_header  \\\n",
       "0  159652  Abditibacterium utsteinense            R-68213   \n",
       "1     219        Abiotrophia defectiva                NaN   \n",
       "2  135184        Abiotrophia defectiva                NaN   \n",
       "3  135892        Abiotrophia defectiva                NaN   \n",
       "4  135893        Abiotrophia defectiva                NaN   \n",
       "\n",
       "                      strain_number_header  is_type_strain_header  \n",
       "0                    DSM 105287, LMG 29911                      1  \n",
       "1  DSM 9849, ATCC 49176, CIP 103242, SC 10                      1  \n",
       "2                               CIP 103895                      0  \n",
       "3                               CIP 103892                      0  \n",
       "4                  CIP 103893, ATCC 700209                      0  "
      ]
     },
     "execution_count": 73,
     "metadata": {},
     "output_type": "execute_result"
    }
   ],
   "source": [
    "strain_data.head()"
   ]
  },
  {
   "cell_type": "code",
   "execution_count": 74,
   "metadata": {},
   "outputs": [
    {
     "data": {
      "text/plain": [
       "(93254, 5)"
      ]
     },
     "execution_count": 74,
     "metadata": {},
     "output_type": "execute_result"
    }
   ],
   "source": [
    "strain_data.shape"
   ]
  },
  {
   "cell_type": "code",
   "execution_count": 81,
   "metadata": {},
   "outputs": [
    {
     "data": {
      "text/plain": [
       "159652"
      ]
     },
     "execution_count": 81,
     "metadata": {},
     "output_type": "execute_result"
    }
   ],
   "source": [
    "strain_data.at[i,\"ID\"]"
   ]
  },
  {
   "cell_type": "code",
   "execution_count": 86,
   "metadata": {},
   "outputs": [
    {
     "name": "stdout",
     "output_type": "stream",
     "text": [
      "{'id': '159652'}\n",
      "{'159652': [{'NCBI tax id': {'NCBI tax id': 1960156, 'Matching level': 'species'}}, {'NCBI tax id': 1960156}, {'Name and taxonomic classification': {'LPSN': {'@ref': 20215, 'description': 'domain/bacteria', 'keyword': 'phylum/abditibacteriota', 'domain': 'Bacteria', 'phylum': 'Abditibacteriota', 'class': 'Abditibacteriia', 'order': 'Abditibacteriales', 'family': 'Abditibacteriaceae', 'genus': 'Abditibacterium', 'species': 'Abditibacterium utsteinense', 'full scientific name': '<I>Abditibacterium</I> <I>utsteinense</I> Tahon et al. 2018'}, '@ref': 66502, 'domain': 'Bacteria', 'phylum': 'Abditibacteriota', 'class': 'Abditibacteria', 'order': 'Abditibacteriales', 'family': 'Abditibacteriaceae', 'genus': 'Abditibacterium', 'species': 'Abditibacterium utsteinense', 'full scientific name': 'Abditibacterium utsteinense Tahon et al. 2018', 'strain designation': 'R-68213', 'type strain': 'yes'}}, {'Physiology and metabolism': {}}, {'Isolation, sampling and environmental information': {'isolation': {'@ref': 66502, 'sample type': 'Top surface sample consisting of weathered granite parent material, elevation 1382 m', 'geographic location': \"East Antarctica, Utsteinen, near Belgian Princess Elisabeth Station (71° 57' S, 23° 20' E)\", 'country': 'Antarctica', 'origin.country': 'ATA', 'continent': 'Australia and Oceania', 'latitude': -71.9465, 'longitude': 23.3457}, 'isolation source categories': [{'Cat1': '#Climate', 'Cat2': '#Cold', 'Cat3': '#Alpine'}, {'Cat1': '#Environmental', 'Cat2': '#Terrestrial', 'Cat3': '#Geologic'}]}}]}\n",
      "{'id': '219'}\n",
      "{'219': [{'NCBI tax id': [{'NCBI tax id': 46125, 'Matching level': 'species'}, {'NCBI tax id': 592010, 'Matching level': 'strain'}]}, {'NCBI tax id': 46125}, {'NCBI tax id': 592010}, {'Name and taxonomic classification': {'LPSN': {'@ref': 20215, 'description': 'domain/bacteria', 'keyword': 'phylum/bacillota', 'domain': 'Bacteria', 'phylum': 'Bacillota', 'class': 'Bacilli', 'order': 'Lactobacillales', 'family': 'Aerococcaceae', 'genus': 'Abiotrophia', 'species': 'Abiotrophia defectiva', 'full scientific name': '<I>Abiotrophia</I> <I>defectiva</I> (Bouvet et al. 1989) Kawamura et al. 1995', 'synonyms': {'@ref': 20215, 'synonym': 'Streptococcus defectivus'}}, '@ref': 3744, 'domain': 'Bacteria', 'phylum': 'Firmicutes', 'class': 'Bacilli', 'order': 'Lactobacillales', 'family': 'Aerococcaceae', 'genus': 'Abiotrophia', 'species': 'Abiotrophia defectiva', 'full scientific name': 'Abiotrophia defectiva (Bouvet et al. 1989) Kawamura et al. 1995', 'type strain': 'yes'}}, {'Physiology and metabolism': {'oxygen tolerance': {'@ref': 3744, 'oxygen tolerance': 'anaerobe'}, 'murein': {'@ref': 3744, 'murein short key': 'A11', 'type': 'A1alpha L-Lys-direct'}, 'metabolite utilization': [{'@ref': 68381, 'Chebi-ID': 16199, 'metabolite': 'urea', 'utilization activity': '-', 'kind of utilization tested': 'hydrolysis'}, {'@ref': 68381, 'Chebi-ID': 320055, 'metabolite': 'methyl beta-D-glucopyranoside', 'utilization activity': '-', 'kind of utilization tested': 'builds acid from'}, {'@ref': 68381, 'Chebi-ID': 6731, 'metabolite': 'melezitose', 'utilization activity': '-', 'kind of utilization tested': 'builds acid from'}, {'@ref': 68381, 'Chebi-ID': 28053, 'metabolite': 'melibiose', 'utilization activity': '-', 'kind of utilization tested': 'builds acid from'}, {'@ref': 68381, 'Chebi-ID': 28087, 'metabolite': 'glycogen', 'utilization activity': '-', 'kind of utilization tested': 'builds acid from'}, {'@ref': 68381, 'Chebi-ID': 606565, 'metabolite': 'hippurate', 'utilization activity': '-', 'kind of utilization tested': 'hydrolysis'}, {'@ref': 68381, 'Chebi-ID': 40585, 'metabolite': 'alpha-cyclodextrin', 'utilization activity': '-', 'kind of utilization tested': 'builds acid from'}, {'@ref': 68381, 'Chebi-ID': 18333, 'metabolite': 'D-arabitol', 'utilization activity': '-', 'kind of utilization tested': 'builds acid from'}, {'@ref': 68381, 'Chebi-ID': 30849, 'metabolite': 'L-arabinose', 'utilization activity': '-', 'kind of utilization tested': 'builds acid from'}, {'@ref': 68381, 'Chebi-ID': 16634, 'metabolite': 'raffinose', 'utilization activity': '-', 'kind of utilization tested': 'builds acid from'}, {'@ref': 68381, 'Chebi-ID': 30911, 'metabolite': 'sorbitol', 'utilization activity': '-', 'kind of utilization tested': 'builds acid from'}, {'@ref': 68381, 'Chebi-ID': 16899, 'metabolite': 'D-mannitol', 'utilization activity': '-', 'kind of utilization tested': 'builds acid from'}, {'@ref': 68381, 'Chebi-ID': 16988, 'metabolite': 'D-ribose', 'utilization activity': '-', 'kind of utilization tested': 'builds acid from'}, {'@ref': 68381, 'Chebi-ID': 29016, 'metabolite': 'arginine', 'utilization activity': '-', 'kind of utilization tested': 'hydrolysis'}, {'@ref': 68380, 'Chebi-ID': 27897, 'metabolite': 'tryptophan', 'utilization activity': '-', 'kind of utilization tested': 'energy source'}, {'@ref': 68380, 'Chebi-ID': 17632, 'metabolite': 'nitrate', 'utilization activity': '-', 'kind of utilization tested': 'reduction'}, {'@ref': 68380, 'Chebi-ID': 29985, 'metabolite': 'L-glutamate', 'utilization activity': '-', 'kind of utilization tested': 'degradation'}, {'@ref': 68380, 'Chebi-ID': 16634, 'metabolite': 'raffinose', 'utilization activity': '-', 'kind of utilization tested': 'fermentation'}, {'@ref': 68380, 'Chebi-ID': 29016, 'metabolite': 'arginine', 'utilization activity': '-', 'kind of utilization tested': 'hydrolysis'}, {'@ref': 68380, 'Chebi-ID': 16199, 'metabolite': 'urea', 'utilization activity': '-', 'kind of utilization tested': 'hydrolysis'}], 'metabolite production': [{'@ref': 68381, 'Chebi-ID': 15688, 'metabolite': 'acetoin', 'production': 'no'}, {'@ref': 68380, 'Chebi-ID': 35581, 'metabolite': 'indole', 'production': 'no'}], 'metabolite tests': [{'@ref': 68381, 'Chebi-ID': 15688, 'metabolite': 'acetoin', 'voges-proskauer-test': '-'}, {'@ref': 68380, 'Chebi-ID': 35581, 'metabolite': 'indole', 'indole test': '-'}], 'enzymes': [{'@ref': 68381, 'value': 'urease', 'activity': '-', 'ec': '3.5.1.5'}, {'@ref': 68381, 'value': 'beta-mannosidase', 'activity': '-', 'ec': '3.2.1.25'}, {'@ref': 68381, 'value': 'glycyl tryptophan arylamidase', 'activity': '-'}, {'@ref': 68381, 'value': 'N-acetyl-beta-glucosaminidase', 'activity': '-', 'ec': '3.2.1.52'}, {'@ref': 68381, 'value': 'alkaline phosphatase', 'activity': '-', 'ec': '3.1.3.1'}, {'@ref': 68381, 'value': 'beta-glucuronidase', 'activity': '-', 'ec': '3.2.1.31'}, {'@ref': 68381, 'value': 'beta-glucosidase', 'activity': '-', 'ec': '3.2.1.21'}, {'@ref': 68381, 'value': 'arginine dihydrolase', 'activity': '-', 'ec': '3.5.3.6'}, {'@ref': 68380, 'value': 'serine arylamidase', 'activity': '-'}, {'@ref': 68380, 'value': 'glutamyl-glutamate arylamidase', 'activity': '-'}, {'@ref': 68380, 'value': 'histidine arylamidase', 'activity': '-'}, {'@ref': 68380, 'value': 'glycin arylamidase', 'activity': '-'}, {'@ref': 68380, 'value': 'alanine arylamidase', 'activity': '-', 'ec': '3.4.11.2'}, {'@ref': 68380, 'value': 'tyrosine arylamidase', 'activity': '-'}, {'@ref': 68380, 'value': 'leucine arylamidase', 'activity': '-', 'ec': '3.4.11.1'}, {'@ref': 68380, 'value': 'phenylalanine arylamidase', 'activity': '-'}, {'@ref': 68380, 'value': 'leucyl glycin arylamidase', 'activity': '-', 'ec': '3.4.11.1'}, {'@ref': 68380, 'value': 'proline-arylamidase', 'activity': '+', 'ec': '3.4.11.5'}, {'@ref': 68380, 'value': 'L-arginine arylamidase', 'activity': '-'}, {'@ref': 68380, 'value': 'alkaline phosphatase', 'activity': '-', 'ec': '3.1.3.1'}, {'@ref': 68380, 'value': 'tryptophan deaminase', 'activity': '-', 'ec': '4.1.99.1'}, {'@ref': 68380, 'value': 'glutamate decarboxylase', 'activity': '-', 'ec': '4.1.1.15'}, {'@ref': 68380, 'value': 'beta-glucuronidase', 'activity': '-', 'ec': '3.2.1.31'}, {'@ref': 68380, 'value': 'alpha-arabinosidase', 'activity': '-', 'ec': '3.2.1.55'}, {'@ref': 68380, 'value': 'beta-glucosidase', 'activity': '-', 'ec': '3.2.1.21'}, {'@ref': 68380, 'value': 'alpha-glucosidase', 'activity': '-', 'ec': '3.2.1.20'}, {'@ref': 68380, 'value': 'beta-Galactosidase 6-phosphate', 'activity': '-'}, {'@ref': 68380, 'value': 'arginine dihydrolase', 'activity': '-', 'ec': '3.5.3.6'}, {'@ref': 68380, 'value': 'urease', 'activity': '-', 'ec': '3.5.1.5'}], 'API rID32A': [{'@ref': 3744, 'URE': '-', 'ADH Arg': '-', 'alpha GAL': '-', 'beta GAL': '-', 'beta GP': '-', 'alpha GLU': '-', 'beta GLU': '-', 'alpha ARA': '-', 'beta GUR': '-', 'beta NAG': '-', 'MNE': '-', 'RAF': '-', 'GDC': '-', 'alpha FUC': '-', 'NIT': '-', 'IND': '-', 'PAL': '-', 'ArgA': '-', 'ProA': '+', 'LGA': '-', 'PheA': '-', 'LeuA': '-', 'PyrA': '-', 'TyrA': '-', 'AlaA': '-', 'GlyA': '-', 'HisA': '-', 'GGA': '-', 'SerA': '-'}, {'@ref': 3744, 'URE': '-', 'ADH Arg': '-', 'alpha GAL': '+', 'beta GAL': '+', 'beta GP': '-', 'alpha GLU': '-', 'beta GLU': '-', 'alpha ARA': '-', 'beta GUR': '-', 'beta NAG': '+', 'MNE': '+', 'RAF': '-', 'GDC': '-', 'alpha FUC': '+', 'NIT': '-', 'IND': '-', 'PAL': '-', 'ArgA': '-', 'ProA': '+', 'LGA': '-', 'PheA': '-', 'LeuA': '-', 'PyrA': '+', 'TyrA': '-', 'AlaA': '-', 'GlyA': '-', 'HisA': '-', 'GGA': '-', 'SerA': '-'}], 'API rID32STR': [{'@ref': 3744, 'ADH Arg': '-', 'beta GLU': '-', 'beta GAR': '-', 'beta GUR': '-', 'alpha GAL': '+/-', 'PAL': '-', 'RIB': '-', 'MAN': '-', 'SOR': '-', 'LAC': '-', 'TRE': '-', 'RAF': '-', 'SAC': '-', 'LARA': '-', 'DARL': '-', 'CDEX': '-', 'VP': '-', 'APPA': '-', 'beta GAL': '-', 'PyrA': '-', 'beta NAG': '-', 'GTA': '-', 'HIP': '-', 'GLYG': '-', 'PUL': '-', 'MAL': '-', 'MEL': '-', 'MLZ': '-', 'Mbeta DG': '-', 'TAG': '-', 'beta MAN': '-', 'URE': '-'}, {'@ref': 3744, 'ADH Arg': '-', 'beta GLU': '-', 'beta GAR': '+', 'beta GUR': '-', 'alpha GAL': '+', 'PAL': '-', 'RIB': '-', 'MAN': '-', 'SOR': '-', 'LAC': '+', 'TRE': '+', 'RAF': '-', 'SAC': '+', 'LARA': '-', 'DARL': '-', 'CDEX': '-', 'VP': '-', 'APPA': '+', 'beta GAL': '+', 'PyrA': '+', 'beta NAG': '-', 'GTA': '-', 'HIP': '-', 'GLYG': '-', 'PUL': '+/-', 'MAL': '+', 'MEL': '-', 'MLZ': '-', 'Mbeta DG': '-', 'TAG': '+/-', 'beta MAN': '-', 'URE': '-'}]}}, {'Isolation, sampling and environmental information': {'isolation': {'@ref': 3744, 'sample type': 'blood of bacterial endocarditis patient', 'country': 'France', 'origin.country': 'FRA', 'continent': 'Europe', 'latitude': 46.7111, 'longitude': 1.7191}, 'isolation source categories': [{'Cat1': '#Infection', 'Cat2': '#Disease'}, {'Cat1': '#Infection', 'Cat2': '#Inflammation'}, {'Cat1': '#Infection', 'Cat2': '#Patient'}, {'Cat1': '#Host Body Product', 'Cat2': '#Fluids', 'Cat3': '#Blood'}], 'taxonmaps': {'@ref': 69479, 'File name': 'preview.99_2859.png', 'url': 'https://microbeatlas.org/index.html?action=taxon&taxon_id=90_178;96_1517;97_1809;98_2213;99_2859&stattab=map', 'Last taxonomy': 'Abiotrophia defectiva subclade', '16S sequence': 'D50541', 'Sequence Identity': None, 'Total samples': 129969, 'soil counts': 3195, 'aquatic counts': 4201, 'animal counts': 121237, 'plant counts': 1336}}}]}\n"
     ]
    }
   ],
   "source": [
    "filter = ['NCBI tax id', 'Name and taxonomic classification', 'Physiology and metabolism', 'Isolation, sampling and environmental information', 'Cultivation medium']\n",
    "\n",
    "bacdive_data = []\n",
    "for i in range(0,strain_data.shape[1]):\n",
    "    if(strain_data.at[i,\"is_type_strain_header\"] == 1):\n",
    "        query1 = {\"id\": str(strain_data.at[i,\"ID\"])}\n",
    "        print(query1)\n",
    "        client.search(**query1)\n",
    "        \n",
    "        result = client.retrieve(filter)\n",
    "        print({k:v for x in result for k,v in x.items()})"
   ]
  },
  {
   "cell_type": "code",
   "execution_count": 70,
   "metadata": {},
   "outputs": [
    {
     "name": "stdout",
     "output_type": "stream",
     "text": [
      "<class 'pandas.core.frame.DataFrame'>\n",
      "MultiIndex: 93255 entries, ('ID', 'species', 'designation_header', 'strain_number_header') to ('169311', 'unclassified bacterium', 'NM08_P-01, NM08, P-01', 'DSM 110563')\n",
      "Data columns (total 1 columns):\n",
      " #   Column                                                                                                                                                                      Non-Null Count  Dtype \n",
      "---  ------                                                                                                                                                                      --------------  ----- \n",
      " 0   The number of entries per field is limited to 10 for this overview. If you want the whole information you can use the API or the \"Download selection\" menu on the Webpage.  93255 non-null  object\n",
      "dtypes: object(1)\n",
      "memory usage: 11.9+ MB\n"
     ]
    }
   ],
   "source": [
    "strain_data.info()"
   ]
  }
 ],
 "metadata": {
  "kernelspec": {
   "display_name": "Python 3",
   "language": "python",
   "name": "python3"
  },
  "language_info": {
   "codemirror_mode": {
    "name": "ipython",
    "version": 3
   },
   "file_extension": ".py",
   "mimetype": "text/x-python",
   "name": "python",
   "nbconvert_exporter": "python",
   "pygments_lexer": "ipython3",
   "version": "3.7.0b4"
  }
 },
 "nbformat": 4,
 "nbformat_minor": 5
}
