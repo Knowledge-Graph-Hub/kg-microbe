{
 "cells": [
  {
   "attachments": {},
   "cell_type": "markdown",
   "metadata": {},
   "source": [
    "## Process species names that produced errors in bacdive API search by using genus name only\n",
    "E.g. Synechococcus sp."
   ]
  },
  {
   "cell_type": "code",
   "execution_count": null,
   "metadata": {},
   "outputs": [],
   "source": [
    "import bacdive\n",
    "import pandas as pd\n",
    "import numpy as np"
   ]
  },
  {
   "cell_type": "code",
   "execution_count": null,
   "metadata": {},
   "outputs": [],
   "source": [
    "with open('up.txt', 'r') as file:\n",
    "    creds = [line.rstrip() for line in file]"
   ]
  },
  {
   "cell_type": "code",
   "execution_count": null,
   "metadata": {},
   "outputs": [],
   "source": [
    "client = bacdive.BacdiveClient(creds[0], creds[1])"
   ]
  },
  {
   "cell_type": "code",
   "execution_count": null,
   "metadata": {},
   "outputs": [],
   "source": []
  },
  {
   "cell_type": "code",
   "execution_count": null,
   "metadata": {},
   "outputs": [],
   "source": [
    "##read in error file and remove sp. and numbers\n",
    "fileerrors = 'species_not_processed.txt'\n",
    "with open(fileerrors, 'r') as file:\n",
    "    errors = [line.rstrip() for line in file]\n",
    "len(errors)"
   ]
  },
  {
   "cell_type": "code",
   "execution_count": null,
   "metadata": {},
   "outputs": [],
   "source": [
    "genus_names = []\n",
    "for item in errors:\n",
    "    if 'sp.' in item:\n",
    "        item = item.replace('sp.', '')\n",
    "        item = item.strip()\n",
    "        genus_names.append(item)\n",
    "len(genus_names)"
   ]
  },
  {
   "cell_type": "code",
   "execution_count": null,
   "metadata": {},
   "outputs": [],
   "source": [
    "##test with genus name\n",
    "filter = ['NCBI tax id', 'BacDive-ID', 'DSM-Number', 'species', 'Physiology and metabolism', 'Isolation, sampling and environmental information']\n",
    "try:\n",
    "    query = {'taxonomy': 'Synechococcus'}\n",
    "    client.search(**query)\n",
    "    result = client.retrieve(filter)\n",
    "except Exception as e:\n",
    "    print(e)\n",
    "for item in result:\n",
    "    print(item)"
   ]
  },
  {
   "cell_type": "code",
   "execution_count": null,
   "metadata": {},
   "outputs": [],
   "source": [
    "##Search the filtered data for each unique species name in Bacdive and return NCBI ID, physiology & metabolism, and isolation data\n",
    "filter = ['NCBI tax id', 'BacDive-ID', 'DSM-Number', 'species', 'Physiology and metabolism', 'Isolation, sampling and environmental information', 'Culture and growth conditions']\n",
    "bacdive_data = {}\n",
    "count = 0\n",
    "error = []\n",
    "for genus in genus_names:\n",
    "    bacdive_data[genus] = []\n",
    "    try:\n",
    "        query = {'taxonomy': genus}\n",
    "        client.search(**query)\n",
    "        result = client.retrieve(filter)\n",
    "        for item in result:\n",
    "            bacdive_data[genus].append(item)\n",
    "        #time.sleep(3)\n",
    "    except Exception as e:\n",
    "        error.append((e, genus))\n",
    "    count += 1\n",
    "    if count%100 == 0:\n",
    "        print(count)\n",
    "len(bacdive_data)"
   ]
  },
  {
   "cell_type": "code",
   "execution_count": null,
   "metadata": {},
   "outputs": [],
   "source": [
    "##save data dictionary with new results\n",
    "import pickle\n",
    "with open('bacdivedata_genus_20230505.pickle', 'wb') as filep:\n",
    "    pickle.dump(bacdive_data, filep)"
   ]
  },
  {
   "cell_type": "code",
   "execution_count": null,
   "metadata": {},
   "outputs": [],
   "source": [
    "len(error)"
   ]
  },
  {
   "cell_type": "code",
   "execution_count": null,
   "metadata": {},
   "outputs": [],
   "source": []
  }
 ],
 "metadata": {
  "kernelspec": {
   "display_name": "Python 3.8.16 ('kg-microbe')",
   "language": "python",
   "name": "python3"
  },
  "language_info": {
   "codemirror_mode": {
    "name": "ipython",
    "version": 3
   },
   "file_extension": ".py",
   "mimetype": "text/x-python",
   "name": "python",
   "nbconvert_exporter": "python",
   "pygments_lexer": "ipython3",
   "version": "3.8.16"
  },
  "orig_nbformat": 4,
  "vscode": {
   "interpreter": {
    "hash": "9178df3a9ec9ad06518a31b1acf92050f9228f26c123e8ff6cc71ed747e46fef"
   }
  }
 },
 "nbformat": 4,
 "nbformat_minor": 2
}
