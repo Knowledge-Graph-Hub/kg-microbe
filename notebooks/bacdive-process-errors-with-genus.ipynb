{
 "cells": [
  {
   "cell_type": "markdown",
   "metadata": {},
   "source": [
    "## Process species names that produced errors in bacdive API search by using genus name only\n",
    "E.g. Synechococcus sp."
   ]
  },
  {
   "cell_type": "code",
   "execution_count": 1,
   "metadata": {},
   "outputs": [],
   "source": [
    "import bacdive\n",
    "import pandas as pd\n",
    "import numpy as np"
   ]
  },
  {
   "cell_type": "code",
   "execution_count": 4,
   "metadata": {},
   "outputs": [],
   "source": [
    "with open('up.txt', 'r') as file:\n",
    "    creds = [line.rstrip() for line in file]"
   ]
  },
  {
   "cell_type": "code",
   "execution_count": 5,
   "metadata": {},
   "outputs": [
    {
     "name": "stdout",
     "output_type": "stream",
     "text": [
      "-- Authentication successful --\n"
     ]
    }
   ],
   "source": [
    "client = bacdive.BacdiveClient(creds[0], creds[1])"
   ]
  },
  {
   "cell_type": "code",
   "execution_count": null,
   "metadata": {},
   "outputs": [],
   "source": []
  },
  {
   "cell_type": "code",
   "execution_count": 6,
   "metadata": {},
   "outputs": [
    {
     "data": {
      "text/plain": [
       "1265"
      ]
     },
     "execution_count": 6,
     "metadata": {},
     "output_type": "execute_result"
    }
   ],
   "source": [
    "##read in error file and remove sp. and numbers\n",
    "fileerrors = 'species_not_processed.txt'\n",
    "with open(fileerrors, 'r') as file:\n",
    "    errors = [line.rstrip() for line in file]\n",
    "len(errors)"
   ]
  },
  {
   "cell_type": "code",
   "execution_count": 7,
   "metadata": {},
   "outputs": [
    {
     "name": "stdout",
     "output_type": "stream",
     "text": [
      "Actinoplanes awajinensis\n",
      "Actinoplanes deccanensis\n",
      "Actinoplanes deccanensis\n",
      "Bacillus safensis\n",
      "Brochothrix thermosphacta\n",
      "Burkholderia cepacia\n",
      "Caldanaerobacter subterraneus\n",
      "Chryseobacterium viscerum\n",
      "Chryseobacterium viscerum\n",
      "Elizabethkingia miricola\n",
      "Elizabethkingia miricola\n",
      "Enterobacter cloacae\n",
      "Exiguobacterium acetylicum\n",
      "Haemophilus intermedius\n",
      "Haemophilus intermedius\n",
      "Leuconostoc mesenteroides\n",
      "Micromonospora mirobrigensis\n",
      "Micromonospora sagamiensis\n",
      "Micromonospora sagamiensis\n",
      "Micromonospora sagamiensis\n",
      "Nannocystis exedens\n",
      "Neisseria elongata\n",
      "Neisseria subflava\n",
      "Nocardiopsis aegyptia\n",
      "Pseudomonas nitroreducens\n",
      "Rathayibacter tritici\n",
      "Rhizobium rhizogenes\n",
      "Rhodococcus obuensis\n",
      "Sporosarcina ureae\n",
      "Streptomyces ansochromogenes\n",
      "Streptomyces aurantiogriseus\n",
      "Streptomyces bikiniensis\n",
      "Streptomyces biverticillatus\n",
      "Streptomyces candidus\n",
      "Streptomyces daghestianicus\n",
      "Streptomyces flavotricini\n",
      "Streptomyces griseus\n",
      "Streptomyces griseus\n",
      "Streptomyces griseus\n",
      "Streptomyces humidus\n",
      "Streptomyces hygroscopicus\n",
      "Streptomyces hygroscopicus\n",
      "Streptomyces lavendulae\n",
      "Streptomyces refuineus\n",
      "Streptomyces roseolilacinus\n",
      "Streptomyces thermohygroscopicus\n",
      "Streptomyces thermoolivaceus\n",
      "Streptomyces thermoolivaceus\n",
      "Streptosporangium roseum\n",
      "Streptosporangium vulgare\n",
      "Treponema medium\n"
     ]
    },
    {
     "data": {
      "text/plain": [
       "835"
      ]
     },
     "execution_count": 7,
     "metadata": {},
     "output_type": "execute_result"
    }
   ],
   "source": [
    "genus_names = []\n",
    "for item in errors:\n",
    "    if 'subsp.' in item:\n",
    "        index = item.index('subsp.')\n",
    "        item = item[:index]\n",
    "        item = item.strip()\n",
    "        print(item)\n",
    "        genus_names.append(item)\n",
    "    elif 'sp.' in item:\n",
    "        item = item.replace('sp.', '')\n",
    "        item = item.strip()\n",
    "        genus_names.append(item)\n",
    "        \n",
    "genus_names = list(set(genus_names))\n",
    "len(genus_names)"
   ]
  },
  {
   "cell_type": "code",
   "execution_count": 8,
   "metadata": {},
   "outputs": [
    {
     "name": "stdout",
     "output_type": "stream",
     "text": [
      "Your search did not receive any results.\n"
     ]
    },
    {
     "ename": "KeyError",
     "evalue": "'results'",
     "output_type": "error",
     "traceback": [
      "\u001b[0;31m---------------------------------------------------------------------------\u001b[0m",
      "\u001b[0;31mKeyError\u001b[0m                                  Traceback (most recent call last)",
      "\u001b[0;32m/tmp/ipykernel_72876/1466436492.py\u001b[0m in \u001b[0;36m<module>\u001b[0;34m\u001b[0m\n\u001b[1;32m      7\u001b[0m \u001b[0;32mexcept\u001b[0m \u001b[0mException\u001b[0m \u001b[0;32mas\u001b[0m \u001b[0me\u001b[0m\u001b[0;34m:\u001b[0m\u001b[0;34m\u001b[0m\u001b[0;34m\u001b[0m\u001b[0m\n\u001b[1;32m      8\u001b[0m     \u001b[0mprint\u001b[0m\u001b[0;34m(\u001b[0m\u001b[0me\u001b[0m\u001b[0;34m)\u001b[0m\u001b[0;34m\u001b[0m\u001b[0;34m\u001b[0m\u001b[0m\n\u001b[0;32m----> 9\u001b[0;31m \u001b[0;32mfor\u001b[0m \u001b[0mitem\u001b[0m \u001b[0;32min\u001b[0m \u001b[0mresult\u001b[0m\u001b[0;34m:\u001b[0m\u001b[0;34m\u001b[0m\u001b[0;34m\u001b[0m\u001b[0m\n\u001b[0m\u001b[1;32m     10\u001b[0m     \u001b[0mprint\u001b[0m\u001b[0;34m(\u001b[0m\u001b[0mitem\u001b[0m\u001b[0;34m)\u001b[0m\u001b[0;34m\u001b[0m\u001b[0;34m\u001b[0m\u001b[0m\n",
      "\u001b[0;32m~/.local/perlmutter/3.9-anaconda-2021.11/lib/python3.9/site-packages/bacdive/client.py\u001b[0m in \u001b[0;36mretrieve\u001b[0;34m(self, filter)\u001b[0m\n\u001b[1;32m     95\u001b[0m         \u001b[0;34m''' Yields all the received entries and does next call if result is incomplete '''\u001b[0m\u001b[0;34m\u001b[0m\u001b[0;34m\u001b[0m\u001b[0m\n\u001b[1;32m     96\u001b[0m         \u001b[0mids\u001b[0m \u001b[0;34m=\u001b[0m \u001b[0;34m\";\"\u001b[0m\u001b[0;34m.\u001b[0m\u001b[0mjoin\u001b[0m\u001b[0;34m(\u001b[0m\u001b[0;34m[\u001b[0m\u001b[0mstr\u001b[0m\u001b[0;34m(\u001b[0m\u001b[0mi\u001b[0m\u001b[0;34m)\u001b[0m \u001b[0;32mfor\u001b[0m \u001b[0mi\u001b[0m \u001b[0;32min\u001b[0m \u001b[0mself\u001b[0m\u001b[0;34m.\u001b[0m\u001b[0mresult\u001b[0m\u001b[0;34m[\u001b[0m\u001b[0;34m'results'\u001b[0m\u001b[0;34m]\u001b[0m\u001b[0;34m]\u001b[0m\u001b[0;34m)\u001b[0m\u001b[0;34m\u001b[0m\u001b[0;34m\u001b[0m\u001b[0m\n\u001b[0;32m---> 97\u001b[0;31m         \u001b[0mentries\u001b[0m \u001b[0;34m=\u001b[0m \u001b[0mself\u001b[0m\u001b[0;34m.\u001b[0m\u001b[0mdo_api_call\u001b[0m\u001b[0;34m(\u001b[0m\u001b[0;34m'fetch/'\u001b[0m\u001b[0;34m+\u001b[0m\u001b[0mids\u001b[0m\u001b[0;34m)\u001b[0m\u001b[0;34m[\u001b[0m\u001b[0;34m'results'\u001b[0m\u001b[0;34m]\u001b[0m\u001b[0;34m\u001b[0m\u001b[0;34m\u001b[0m\u001b[0m\n\u001b[0m\u001b[1;32m     98\u001b[0m         \u001b[0;32mfor\u001b[0m \u001b[0mel\u001b[0m \u001b[0;32min\u001b[0m \u001b[0mentries\u001b[0m\u001b[0;34m:\u001b[0m\u001b[0;34m\u001b[0m\u001b[0;34m\u001b[0m\u001b[0m\n\u001b[1;32m     99\u001b[0m             \u001b[0;32mif\u001b[0m \u001b[0misinstance\u001b[0m\u001b[0;34m(\u001b[0m\u001b[0mel\u001b[0m\u001b[0;34m,\u001b[0m \u001b[0mdict\u001b[0m\u001b[0;34m)\u001b[0m\u001b[0;34m:\u001b[0m\u001b[0;34m\u001b[0m\u001b[0;34m\u001b[0m\u001b[0m\n",
      "\u001b[0;31mKeyError\u001b[0m: 'results'"
     ]
    }
   ],
   "source": [
    "##test with genus name\n",
    "filter = ['NCBI tax id', 'BacDive-ID', 'DSM-Number', 'species', 'Physiology and metabolism', 'Isolation, sampling and environmental information']\n",
    "try:\n",
    "    query = {'taxonomy': 'Streptomyces thermoolivaceus'}\n",
    "    client.search(**query)\n",
    "    result = client.retrieve(filter)\n",
    "except Exception as e:\n",
    "    print(e)\n",
    "for item in result:\n",
    "    print(item)"
   ]
  },
  {
   "cell_type": "code",
   "execution_count": 9,
   "metadata": {},
   "outputs": [
    {
     "name": "stdout",
     "output_type": "stream",
     "text": [
      "Your search did not receive any results.\n",
      "Your search did not receive any results.\n",
      "Your search did not receive any results.\n",
      "100\n",
      "Your search did not receive any results.\n",
      "Your search did not receive any results.\n",
      "200\n",
      "Your search did not receive any results.\n",
      "Your search did not receive any results.\n",
      "Your search did not receive any results.\n",
      "300\n",
      "Your search did not receive any results.\n",
      "Your search did not receive any results.\n",
      "400\n",
      "Your search did not receive any results.\n",
      "Your search did not receive any results.\n",
      "500\n",
      "600\n",
      "Your search did not receive any results.\n",
      "Your search did not receive any results.\n",
      "Your search did not receive any results.\n",
      "700\n",
      "800\n"
     ]
    },
    {
     "data": {
      "text/plain": [
       "835"
      ]
     },
     "execution_count": 9,
     "metadata": {},
     "output_type": "execute_result"
    }
   ],
   "source": [
    "##Search the filtered data for each unique species name in Bacdive and return NCBI ID, physiology & metabolism, and isolation data\n",
    "filter = ['NCBI tax id', 'BacDive-ID', 'DSM-Number', 'species', 'Physiology and metabolism', 'Isolation, sampling and environmental information', 'Culture and growth conditions']\n",
    "bacdive_data = {}\n",
    "count = 0\n",
    "error = []\n",
    "for genus in genus_names:#[21:100]:\n",
    "    bacdive_data[genus] = []\n",
    "    try:\n",
    "        query = {'taxonomy': genus}\n",
    "        client.search(**query)\n",
    "        result = client.retrieve(filter)\n",
    "        for item in result:\n",
    "            bacdive_data[genus].append(item)\n",
    "        #time.sleep(3)\n",
    "    except Exception as e:\n",
    "        error.append((e, genus))\n",
    "    count += 1\n",
    "    if count%100 == 0:\n",
    "        print(count)\n",
    "len(bacdive_data)"
   ]
  },
  {
   "cell_type": "code",
   "execution_count": 10,
   "metadata": {},
   "outputs": [],
   "source": [
    "##save data dictionary with new results\n",
    "import pickle\n",
    "with open('bacdivedata_genus_20230512.pickle', 'wb') as filep:\n",
    "    pickle.dump(bacdive_data, filep)"
   ]
  },
  {
   "cell_type": "code",
   "execution_count": 12,
   "metadata": {},
   "outputs": [],
   "source": [
    "with open('bacdivedata_genus_20230512_errors.txt', 'w') as f:\n",
    "    f.write(str(errors))\n",
    "    f.close()"
   ]
  },
  {
   "cell_type": "code",
   "execution_count": null,
   "metadata": {},
   "outputs": [],
   "source": [
    "len(error)"
   ]
  },
  {
   "cell_type": "code",
   "execution_count": 14,
   "metadata": {},
   "outputs": [
    {
     "data": {
      "text/plain": [
       "[(KeyError('results'), 'Acidobacteriaceae'),\n",
       " (KeyError('results'), 'Atactangium'),\n",
       " (KeyError('results'), 'Actinoplanes awajinensis'),\n",
       " (KeyError('results'), 'Streptomyces refuineus'),\n",
       " (KeyError('results'), 'Myxococcales'),\n",
       " (KeyError('results'), 'Rhodococcus obuensis'),\n",
       " (KeyError('results'), 'Haemophilus intermedius'),\n",
       " (KeyError('results'), 'Massilimalia'),\n",
       " (KeyError('results'), 'Streptomyces daghestianicus'),\n",
       " (KeyError('results'), 'Actinobacteria'),\n",
       " (KeyError('results'), 'Streptomyces ansochromogenes'),\n",
       " (KeyError('results'), 'Kiloninella'),\n",
       " (KeyError('results'), 'Trichotomospora'),\n",
       " (KeyError('results'), 'Cyanobacteria'),\n",
       " (KeyError('results'), 'Streptomyces thermoolivaceus'),\n",
       " (KeyError('results'), 'Treponema medium'),\n",
       " (KeyError('results'), 'Actinomycetales'),\n",
       " (KeyError('results'), 'Candidatus Rhizospheria')]"
      ]
     },
     "execution_count": 14,
     "metadata": {},
     "output_type": "execute_result"
    }
   ],
   "source": [
    "error"
   ]
  },
  {
   "cell_type": "code",
   "execution_count": null,
   "metadata": {},
   "outputs": [],
   "source": [
    "import pickle\n",
    "bacdata = pickle.load(\"bacdivedata_ID_isolation_metabolism_20230321.pickle\")"
   ]
  }
 ],
 "metadata": {
  "kernelspec": {
   "display_name": "NERSC Python",
   "language": "python",
   "name": "python3"
  },
  "language_info": {
   "codemirror_mode": {
    "name": "ipython",
    "version": 3
   },
   "file_extension": ".py",
   "mimetype": "text/x-python",
   "name": "python",
   "nbconvert_exporter": "python",
   "pygments_lexer": "ipython3",
   "version": "3.9.7"
  },
  "vscode": {
   "interpreter": {
    "hash": "9178df3a9ec9ad06518a31b1acf92050f9228f26c123e8ff6cc71ed747e46fef"
   }
  }
 },
 "nbformat": 4,
 "nbformat_minor": 4
}
