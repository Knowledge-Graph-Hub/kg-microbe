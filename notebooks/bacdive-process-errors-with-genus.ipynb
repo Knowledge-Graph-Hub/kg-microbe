{
 "cells": [
  {
   "cell_type": "markdown",
   "metadata": {},
   "source": [
    "## Process species names that produced errors in bacdive API search by using genus name only\n",
    "E.g. Synechococcus sp."
   ]
  },
  {
   "cell_type": "code",
   "execution_count": 1,
   "metadata": {},
   "outputs": [],
   "source": [
    "import bacdive\n",
    "import pandas as pd\n",
    "import numpy as np"
   ]
  },
  {
   "cell_type": "code",
   "execution_count": 2,
   "metadata": {},
   "outputs": [],
   "source": [
    "with open('up.txt', 'r') as file:\n",
    "    creds = [line.rstrip() for line in file]"
   ]
  },
  {
   "cell_type": "code",
   "execution_count": 3,
   "metadata": {},
   "outputs": [
    {
     "name": "stdout",
     "output_type": "stream",
     "text": [
      "-- Authentication successful --\n"
     ]
    }
   ],
   "source": [
    "client = bacdive.BacdiveClient(creds[0], creds[1])"
   ]
  },
  {
   "cell_type": "code",
   "execution_count": null,
   "metadata": {},
   "outputs": [],
   "source": []
  },
  {
   "cell_type": "code",
   "execution_count": 4,
   "metadata": {},
   "outputs": [
    {
     "data": {
      "text/plain": [
       "1265"
      ]
     },
     "execution_count": 4,
     "metadata": {},
     "output_type": "execute_result"
    }
   ],
   "source": [
    "##read in error file and remove sp. and numbers\n",
    "fileerrors = 'species_not_processed.txt'\n",
    "with open(fileerrors, 'r') as file:\n",
    "    errors = [line.rstrip() for line in file]\n",
    "len(errors)"
   ]
  },
  {
   "cell_type": "code",
   "execution_count": 25,
   "metadata": {},
   "outputs": [
    {
     "name": "stdout",
     "output_type": "stream",
     "text": [
      "Actinoplanes awajinensis\n",
      "Actinoplanes deccanensis\n",
      "Actinoplanes deccanensis\n",
      "Bacillus safensis\n",
      "Brochothrix thermosphacta\n",
      "Burkholderia cepacia\n",
      "Caldanaerobacter subterraneus\n",
      "Chryseobacterium viscerum\n",
      "Chryseobacterium viscerum\n",
      "Elizabethkingia miricola\n",
      "Elizabethkingia miricola\n",
      "Enterobacter cloacae\n",
      "Exiguobacterium acetylicum\n",
      "Haemophilus intermedius\n",
      "Haemophilus intermedius\n",
      "Leuconostoc mesenteroides\n",
      "Micromonospora mirobrigensis\n",
      "Micromonospora sagamiensis\n",
      "Micromonospora sagamiensis\n",
      "Micromonospora sagamiensis\n",
      "Nannocystis exedens\n",
      "Neisseria elongata\n",
      "Neisseria subflava\n",
      "Nocardiopsis aegyptia\n",
      "Pseudomonas nitroreducens\n",
      "Rathayibacter tritici\n",
      "Rhizobium rhizogenes\n",
      "Rhodococcus obuensis\n",
      "Sporosarcina ureae\n",
      "Streptomyces ansochromogenes\n",
      "Streptomyces aurantiogriseus\n",
      "Streptomyces bikiniensis\n",
      "Streptomyces biverticillatus\n",
      "Streptomyces candidus\n",
      "Streptomyces daghestianicus\n",
      "Streptomyces flavotricini\n",
      "Streptomyces griseus\n",
      "Streptomyces griseus\n",
      "Streptomyces griseus\n",
      "Streptomyces humidus\n",
      "Streptomyces hygroscopicus\n",
      "Streptomyces hygroscopicus\n",
      "Streptomyces lavendulae\n",
      "Streptomyces refuineus\n",
      "Streptomyces roseolilacinus\n",
      "Streptomyces thermohygroscopicus\n",
      "Streptomyces thermoolivaceus\n",
      "Streptomyces thermoolivaceus\n",
      "Streptosporangium roseum\n",
      "Streptosporangium vulgare\n",
      "Treponema medium\n"
     ]
    },
    {
     "data": {
      "text/plain": [
       "835"
      ]
     },
     "execution_count": 25,
     "metadata": {},
     "output_type": "execute_result"
    }
   ],
   "source": [
    "genus_names = []\n",
    "for item in errors:\n",
    "    if 'subsp.' in item:\n",
    "        index = item.index('subsp.')\n",
    "        item = item[:index]\n",
    "        item = item.strip()\n",
    "        print(item)\n",
    "        genus_names.append(item)\n",
    "    elif 'sp.' in item:\n",
    "        item = item.replace('sp.', '')\n",
    "        item = item.strip()\n",
    "        genus_names.append(item)\n",
    "        \n",
    "genus_names = list(set(genus_names))\n",
    "len(genus_names)"
   ]
  },
  {
   "cell_type": "code",
   "execution_count": 24,
   "metadata": {},
   "outputs": [
    {
     "name": "stdout",
     "output_type": "stream",
     "text": [
      "Your search did not receive any results.\n"
     ]
    },
    {
     "ename": "KeyError",
     "evalue": "'results'",
     "output_type": "error",
     "traceback": [
      "\u001b[0;31m---------------------------------------------------------------------------\u001b[0m",
      "\u001b[0;31mKeyError\u001b[0m                                  Traceback (most recent call last)",
      "Cell \u001b[0;32mIn[24], line 9\u001b[0m\n\u001b[1;32m      7\u001b[0m \u001b[38;5;28;01mexcept\u001b[39;00m \u001b[38;5;167;01mException\u001b[39;00m \u001b[38;5;28;01mas\u001b[39;00m e:\n\u001b[1;32m      8\u001b[0m     \u001b[38;5;28mprint\u001b[39m(e)\n\u001b[0;32m----> 9\u001b[0m \u001b[38;5;28;01mfor\u001b[39;00m item \u001b[38;5;129;01min\u001b[39;00m result:\n\u001b[1;32m     10\u001b[0m     \u001b[38;5;28mprint\u001b[39m(item)\n",
      "File \u001b[0;32m~/.pyenv/versions/3.8.16/lib/python3.8/site-packages/bacdive/client.py:97\u001b[0m, in \u001b[0;36mBacdiveClient.retrieve\u001b[0;34m(self, filter)\u001b[0m\n\u001b[1;32m     95\u001b[0m \u001b[38;5;250m\u001b[39m\u001b[38;5;124;03m''' Yields all the received entries and does next call if result is incomplete '''\u001b[39;00m\n\u001b[1;32m     96\u001b[0m ids \u001b[38;5;241m=\u001b[39m \u001b[38;5;124m\"\u001b[39m\u001b[38;5;124m;\u001b[39m\u001b[38;5;124m\"\u001b[39m\u001b[38;5;241m.\u001b[39mjoin([\u001b[38;5;28mstr\u001b[39m(i) \u001b[38;5;28;01mfor\u001b[39;00m i \u001b[38;5;129;01min\u001b[39;00m \u001b[38;5;28mself\u001b[39m\u001b[38;5;241m.\u001b[39mresult[\u001b[38;5;124m'\u001b[39m\u001b[38;5;124mresults\u001b[39m\u001b[38;5;124m'\u001b[39m]])\n\u001b[0;32m---> 97\u001b[0m entries \u001b[38;5;241m=\u001b[39m \u001b[38;5;28;43mself\u001b[39;49m\u001b[38;5;241;43m.\u001b[39;49m\u001b[43mdo_api_call\u001b[49m\u001b[43m(\u001b[49m\u001b[38;5;124;43m'\u001b[39;49m\u001b[38;5;124;43mfetch/\u001b[39;49m\u001b[38;5;124;43m'\u001b[39;49m\u001b[38;5;241;43m+\u001b[39;49m\u001b[43mids\u001b[49m\u001b[43m)\u001b[49m\u001b[43m[\u001b[49m\u001b[38;5;124;43m'\u001b[39;49m\u001b[38;5;124;43mresults\u001b[39;49m\u001b[38;5;124;43m'\u001b[39;49m\u001b[43m]\u001b[49m\n\u001b[1;32m     98\u001b[0m \u001b[38;5;28;01mfor\u001b[39;00m el \u001b[38;5;129;01min\u001b[39;00m entries:\n\u001b[1;32m     99\u001b[0m     \u001b[38;5;28;01mif\u001b[39;00m \u001b[38;5;28misinstance\u001b[39m(el, \u001b[38;5;28mdict\u001b[39m):\n",
      "\u001b[0;31mKeyError\u001b[0m: 'results'"
     ]
    }
   ],
   "source": [
    "##test with genus name\n",
    "filter = ['NCBI tax id', 'BacDive-ID', 'DSM-Number', 'species', 'Physiology and metabolism', 'Isolation, sampling and environmental information']\n",
    "try:\n",
    "    query = {'taxonomy': 'Streptomyces thermoolivaceus'}\n",
    "    client.search(**query)\n",
    "    result = client.retrieve(filter)\n",
    "except Exception as e:\n",
    "    print(e)\n",
    "for item in result:\n",
    "    print(item)"
   ]
  },
  {
   "cell_type": "code",
   "execution_count": 21,
   "metadata": {},
   "outputs": [
    {
     "name": "stdout",
     "output_type": "stream",
     "text": [
      "Your search did not receive any results.\n",
      "Your search did not receive any results.\n"
     ]
    },
    {
     "data": {
      "text/plain": [
       "79"
      ]
     },
     "execution_count": 21,
     "metadata": {},
     "output_type": "execute_result"
    }
   ],
   "source": [
    "##Search the filtered data for each unique species name in Bacdive and return NCBI ID, physiology & metabolism, and isolation data\n",
    "filter = ['NCBI tax id', 'BacDive-ID', 'DSM-Number', 'species', 'Physiology and metabolism', 'Isolation, sampling and environmental information', 'Culture and growth conditions']\n",
    "bacdive_data = {}\n",
    "count = 0\n",
    "error = []\n",
    "for genus in genus_names:#[21:100]:\n",
    "    bacdive_data[genus] = []\n",
    "    try:\n",
    "        query = {'taxonomy': genus}\n",
    "        client.search(**query)\n",
    "        result = client.retrieve(filter)\n",
    "        for item in result:\n",
    "            bacdive_data[genus].append(item)\n",
    "        #time.sleep(3)\n",
    "    except Exception as e:\n",
    "        error.append((e, genus))\n",
    "    count += 1\n",
    "    if count%100 == 0:\n",
    "        print(count)\n",
    "len(bacdive_data)"
   ]
  },
  {
   "cell_type": "code",
   "execution_count": null,
   "metadata": {},
   "outputs": [],
   "source": [
    "##save data dictionary with new results\n",
    "import pickle\n",
    "with open('bacdivedata_genus_20230512.pickle', 'wb') as filep:\n",
    "    pickle.dump(bacdive_data, filep)"
   ]
  },
  {
   "cell_type": "code",
   "execution_count": null,
   "metadata": {},
   "outputs": [],
   "source": [
    "with open('bacdivedata_genus_20230512_errors.txt', 'w') as f:\n",
    "    f.write(errors)\n",
    "    f.close()"
   ]
  },
  {
   "cell_type": "code",
   "execution_count": null,
   "metadata": {},
   "outputs": [],
   "source": [
    "len(error)"
   ]
  },
  {
   "cell_type": "code",
   "execution_count": 22,
   "metadata": {},
   "outputs": [
    {
     "data": {
      "text/plain": [
       "[(KeyError('results'), 'Streptomyces thermoolivaceus '),\n",
       " (KeyError('results'), 'Treponema medium ')]"
      ]
     },
     "execution_count": 22,
     "metadata": {},
     "output_type": "execute_result"
    }
   ],
   "source": [
    "error"
   ]
  },
  {
   "cell_type": "code",
   "execution_count": null,
   "metadata": {},
   "outputs": [],
   "source": [
    "import pickle\n",
    "bacdata = pickle.load(\"bacdivedata_ID_isolation_metabolism_20230321.pickle\")"
   ]
  }
 ],
 "metadata": {
  "kernelspec": {
   "display_name": "Python 3 (ipykernel)",
   "language": "python",
   "name": "python3"
  },
  "language_info": {
   "codemirror_mode": {
    "name": "ipython",
    "version": 3
   },
   "file_extension": ".py",
   "mimetype": "text/x-python",
   "name": "python",
   "nbconvert_exporter": "python",
   "pygments_lexer": "ipython3",
   "version": "3.8.16"
  },
  "vscode": {
   "interpreter": {
    "hash": "9178df3a9ec9ad06518a31b1acf92050f9228f26c123e8ff6cc71ed747e46fef"
   }
  }
 },
 "nbformat": 4,
 "nbformat_minor": 2
}
