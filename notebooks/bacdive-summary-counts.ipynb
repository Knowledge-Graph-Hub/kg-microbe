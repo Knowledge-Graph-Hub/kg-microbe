{
 "cells": [
  {
   "cell_type": "markdown",
   "id": "322b92a2",
   "metadata": {},
   "source": [
    "## Testing Bacdive API"
   ]
  },
  {
   "cell_type": "code",
   "execution_count": 1,
   "id": "66596a7b",
   "metadata": {
    "tags": []
   },
   "outputs": [],
   "source": [
    "import bacdive\n",
    "import pandas as pd\n",
    "import numpy as np\n",
    "import pickle"
   ]
  },
  {
   "cell_type": "code",
   "execution_count": 4,
   "id": "577e1472-5dcc-4b43-bf38-b58ec395da56",
   "metadata": {
    "tags": []
   },
   "outputs": [
    {
     "data": {
      "text/plain": [
       "20809"
      ]
     },
     "execution_count": 4,
     "metadata": {},
     "output_type": "execute_result"
    }
   ],
   "source": [
    "##read in data\n",
    "with open('bacdivedata_ID_isolation_metabolism_20230321.pickle', 'rb') as filep:\n",
    "    bacdive_dict = pickle.load(filep)\n",
    "len(bacdive_dict)"
   ]
  },
  {
   "cell_type": "code",
   "execution_count": 6,
   "id": "07ed1d12-6ebc-42c5-a009-5c6e730a3c76",
   "metadata": {
    "tags": []
   },
   "outputs": [
    {
     "data": {
      "text/plain": [
       "20809"
      ]
     },
     "execution_count": 6,
     "metadata": {},
     "output_type": "execute_result"
    }
   ],
   "source": [
    "len(bacdive_dict)"
   ]
  },
  {
   "cell_type": "code",
   "execution_count": 8,
   "id": "3c0246b9-ebe6-4c82-a897-cace65954243",
   "metadata": {
    "tags": []
   },
   "outputs": [
    {
     "data": {
      "text/plain": [
       "60247"
      ]
     },
     "execution_count": 8,
     "metadata": {},
     "output_type": "execute_result"
    }
   ],
   "source": [
    "strain_count = 0\n",
    "for key in bacdive_dict:\n",
    "    if len(bacdive_dict[key]):\n",
    "        strain_count+=len(bacdive_dict[key])\n",
    "strain_count"
   ]
  },
  {
   "cell_type": "code",
   "execution_count": 9,
   "id": "d0d87fd0-b09b-48a5-9f28-d02414ff5163",
   "metadata": {
    "tags": []
   },
   "outputs": [
    {
     "data": {
      "text/plain": [
       "3.0826340564879247"
      ]
     },
     "execution_count": 9,
     "metadata": {},
     "output_type": "execute_result"
    }
   ],
   "source": [
    "60247/19544"
   ]
  },
  {
   "cell_type": "code",
   "execution_count": 88,
   "id": "1a95a9ae-620e-4dab-82ff-943b2eeda1cb",
   "metadata": {
    "tags": []
   },
   "outputs": [],
   "source": [
    "iso_species = []\n",
    "phys_species = []\n",
    "cult_species = []\n",
    "##0=NCBI tax 1=NCBITaxon #2=Physiology and Metabolism #3 = isolation...\n",
    "for key in bacdive_dict:\n",
    "    result = bacdive_dict[key] #list of strain data\n",
    "    try:\n",
    "        for strain_data in result:\n",
    "            if strain_data:\n",
    "                #dictionary with strain data\n",
    "                for strain_key in strain_data:\n",
    "                    if strain_data[strain_key]:\n",
    "                        for item in strain_data[strain_key]:\n",
    "                            if 'Physiology and metabolism' in item:\n",
    "                                if item['Physiology and metabolism']:\n",
    "                                    phys_species.append(key)\n",
    "                            if 'Isolation, sampling and environmental information' in item:\n",
    "                                if item['Isolation, sampling and environmental information']:\n",
    "                                    iso_species.append(key)\n",
    "    except Exception as e:\n",
    "        print(key)\n",
    "        print(e)\n",
    "        break"
   ]
  },
  {
   "cell_type": "code",
   "execution_count": 90,
   "id": "ff7de65a-155f-47f4-a17f-41e9a351a97b",
   "metadata": {
    "tags": []
   },
   "outputs": [
    {
     "data": {
      "text/plain": [
       "17555"
      ]
     },
     "execution_count": 90,
     "metadata": {},
     "output_type": "execute_result"
    }
   ],
   "source": [
    "len(list(set(iso_species)))"
   ]
  },
  {
   "cell_type": "code",
   "execution_count": 91,
   "id": "1305b421-fc01-49f9-b415-b0a5ae519e21",
   "metadata": {
    "tags": []
   },
   "outputs": [
    {
     "data": {
      "text/plain": [
       "13886"
      ]
     },
     "execution_count": 91,
     "metadata": {},
     "output_type": "execute_result"
    }
   ],
   "source": [
    "len(list(set(phys_species)))"
   ]
  },
  {
   "cell_type": "code",
   "execution_count": 92,
   "id": "3019d731-8040-44ca-9a79-cd927d30a4e6",
   "metadata": {
    "tags": []
   },
   "outputs": [],
   "source": [
    "iso_keys = []\n",
    "phys_keys = []\n",
    "for key in bacdive_dict:\n",
    "    result = bacdive_dict[key] #list of strain data\n",
    "    try:\n",
    "        for strain_data in result:\n",
    "            if strain_data:\n",
    "                #dictionary with strain data\n",
    "                for strain_key in strain_data:\n",
    "                    if strain_data[strain_key]:\n",
    "                        for item in strain_data[strain_key]:\n",
    "                            if 'Physiology and metabolism' in item:\n",
    "                                if item['Physiology and metabolism']:\n",
    "                                    for subkey in item['Physiology and metabolism']:\n",
    "                                        if subkey not in phys_keys:\n",
    "                                            phys_keys.append(subkey)\n",
    "                            if 'Isolation, sampling and environmental information' in item:\n",
    "                                if item['Isolation, sampling and environmental information']:\n",
    "                                    for subkey in item['Isolation, sampling and environmental information']:\n",
    "                                        if subkey not in iso_keys:\n",
    "                                            iso_keys.append(subkey)\n",
    "    except Exception as e:\n",
    "        print(key)\n",
    "        print(e)\n",
    "        break"
   ]
  },
  {
   "cell_type": "code",
   "execution_count": 93,
   "id": "fcef4d81-c317-4b3a-8dc5-ce11020ddeaf",
   "metadata": {
    "tags": []
   },
   "outputs": [
    {
     "data": {
      "text/plain": [
       "['isolation', 'isolation source categories', 'taxonmaps']"
      ]
     },
     "execution_count": 93,
     "metadata": {},
     "output_type": "execute_result"
    }
   ],
   "source": [
    "iso_keys"
   ]
  },
  {
   "cell_type": "code",
   "execution_count": 94,
   "id": "dcccb435-9f3b-4913-b0a6-a0a07fd5808e",
   "metadata": {
    "tags": []
   },
   "outputs": [
    {
     "data": {
      "text/plain": [
       "['oxygen tolerance',\n",
       " 'metabolite utilization',\n",
       " 'metabolite production',\n",
       " 'metabolite tests',\n",
       " 'enzymes',\n",
       " 'API rID32STR',\n",
       " 'API 50CHac',\n",
       " 'API coryne',\n",
       " 'fatty acid profile',\n",
       " 'murein',\n",
       " 'API rID32A',\n",
       " 'halophily',\n",
       " 'spore formation',\n",
       " 'antibiotic resistance',\n",
       " 'observation',\n",
       " 'API 20NE',\n",
       " 'API zym',\n",
       " 'API 20E',\n",
       " 'API 20A',\n",
       " 'nutrition type',\n",
       " 'compound production',\n",
       " 'tolerance',\n",
       " 'API ID32E',\n",
       " 'API NH',\n",
       " 'antibiogram',\n",
       " 'API 20STR',\n",
       " 'API ID32STA',\n",
       " 'API STA',\n",
       " 'API 50CHas',\n",
       " 'API CAM',\n",
       " 'API LIST']"
      ]
     },
     "execution_count": 94,
     "metadata": {},
     "output_type": "execute_result"
    }
   ],
   "source": [
    "phys_keys"
   ]
  },
  {
   "cell_type": "code",
   "execution_count": 86,
   "id": "6d4ae4ee-688b-43f2-a31c-ebc9c7784b30",
   "metadata": {
    "tags": []
   },
   "outputs": [
    {
     "data": {
      "text/plain": [
       "{'NCBI tax id': 592010}"
      ]
     },
     "execution_count": 86,
     "metadata": {},
     "output_type": "execute_result"
    }
   ],
   "source": [
    "bacdive_dict['Abiotrophia defectiva'][38]['219'][2]"
   ]
  },
  {
   "cell_type": "code",
   "execution_count": 10,
   "id": "f4e4d5ed-d2c2-499a-890d-608ae09d4594",
   "metadata": {},
   "outputs": [
    {
     "name": "stdout",
     "output_type": "stream",
     "text": [
      "Abditibacterium utsteinense\n",
      "[{'159652': [{'NCBI tax id': {'NCBI tax id': 1960156, 'Matching level': 'species'}}, {'NCBI tax id': 1960156}, {'Physiology and metabolism': {}}, {'Isolation, sampling and environmental information': {'isolation': {'@ref': 66502, 'sample type': 'Top surface sample consisting of weathered granite parent material, elevation 1382 m', 'geographic location': \"East Antarctica, Utsteinen, near Belgian Princess Elisabeth Station (71° 57' S, 23° 20' E)\", 'country': 'Antarctica', 'origin.country': 'ATA', 'continent': 'Australia and Oceania', 'latitude': -71.9465, 'longitude': 23.3457}, 'isolation source categories': [{'Cat1': '#Climate', 'Cat2': '#Cold', 'Cat3': '#Alpine'}, {'Cat1': '#Environmental', 'Cat2': '#Terrestrial', 'Cat3': '#Geologic'}]}}]}]\n"
     ]
    }
   ],
   "source": [
    "for key in bacdive_dict:\n",
    "    if \n",
    "    print(key)\n",
    "    print(bacdive_dict[key])\n",
    "    break"
   ]
  },
  {
   "cell_type": "code",
   "execution_count": null,
   "id": "b2a01d1e-a7e1-4463-a1e4-670296feaf4c",
   "metadata": {},
   "outputs": [],
   "source": [
    "##counts for cultivation and growth conditions"
   ]
  },
  {
   "cell_type": "code",
   "execution_count": 2,
   "id": "1a6b567d-cd85-4e0d-bf6c-08695f165a32",
   "metadata": {
    "tags": []
   },
   "outputs": [
    {
     "data": {
      "text/plain": [
       "20809"
      ]
     },
     "execution_count": 2,
     "metadata": {},
     "output_type": "execute_result"
    }
   ],
   "source": [
    "##read in data\n",
    "with open('bacdivedata_cultivation_20230321.pickle', 'rb') as filep:\n",
    "    bacdive_dict = pickle.load(filep)\n",
    "len(bacdive_dict)"
   ]
  },
  {
   "cell_type": "code",
   "execution_count": 3,
   "id": "15bcd7dc-8eb3-4132-a744-9d706d444d39",
   "metadata": {
    "tags": []
   },
   "outputs": [
    {
     "data": {
      "text/plain": [
       "20809"
      ]
     },
     "execution_count": 3,
     "metadata": {},
     "output_type": "execute_result"
    }
   ],
   "source": [
    "len(bacdive_dict)"
   ]
  },
  {
   "cell_type": "code",
   "execution_count": 4,
   "id": "fe102bad-eedc-4603-b027-95280008c42e",
   "metadata": {
    "tags": []
   },
   "outputs": [],
   "source": [
    "cult_species = []\n",
    "for key in bacdive_dict:\n",
    "    result = bacdive_dict[key] #list of strain data\n",
    "    try:\n",
    "        for strain_data in result:\n",
    "            if strain_data:\n",
    "                #dictionary with strain data\n",
    "                for strain_key in strain_data:\n",
    "                    if strain_data[strain_key]:\n",
    "                        for item in strain_data[strain_key]:\n",
    "                            if 'Culture and growth conditions' in item:\n",
    "                                if item['Culture and growth conditions']:\n",
    "                                    cult_species.append(key)\n",
    "    except Exception as e:\n",
    "        print(key)\n",
    "        print(e)\n",
    "        break"
   ]
  },
  {
   "cell_type": "code",
   "execution_count": 5,
   "id": "d9ed1bb4-ab10-4660-a4eb-9ce9e3280912",
   "metadata": {
    "tags": []
   },
   "outputs": [
    {
     "data": {
      "text/plain": [
       "792"
      ]
     },
     "execution_count": 5,
     "metadata": {},
     "output_type": "execute_result"
    }
   ],
   "source": [
    "len(list(set(cult_species)))"
   ]
  },
  {
   "cell_type": "code",
   "execution_count": 7,
   "id": "cfaad1f2-7aa1-412a-9dfe-e19b90956bac",
   "metadata": {
    "tags": []
   },
   "outputs": [],
   "source": [
    "cult_keys = []\n",
    "for key in bacdive_dict:\n",
    "    result = bacdive_dict[key] #list of strain data\n",
    "    try:\n",
    "        for strain_data in result:\n",
    "            if strain_data:\n",
    "                #dictionary with strain data\n",
    "                for strain_key in strain_data:\n",
    "                    if strain_data[strain_key]:\n",
    "                        for item in strain_data[strain_key]:\n",
    "                            if 'Culture and growth conditions' in item:\n",
    "                                if item['Culture and growth conditions']:\n",
    "                                    for subkey in item['Culture and growth conditions']:\n",
    "                                        if subkey not in cult_keys:\n",
    "                                            cult_keys.append(subkey)\n",
    "    except Exception as e:\n",
    "        print(key)\n",
    "        print(e)\n",
    "        break"
   ]
  },
  {
   "cell_type": "code",
   "execution_count": 8,
   "id": "93bb077c-a8e9-4b6d-9ade-d0e817c6fd99",
   "metadata": {
    "tags": []
   },
   "outputs": [
    {
     "data": {
      "text/plain": [
       "['culture medium', 'culture temp', 'culture pH']"
      ]
     },
     "execution_count": 8,
     "metadata": {},
     "output_type": "execute_result"
    }
   ],
   "source": [
    "cult_keys"
   ]
  },
  {
   "cell_type": "code",
   "execution_count": 10,
   "id": "d945074e-7b02-46fa-9ee6-e33783746efe",
   "metadata": {
    "tags": []
   },
   "outputs": [
    {
     "data": {
      "text/plain": [
       "{'Culture and growth conditions': {'culture medium': [{'@ref': 3744,\n",
       "    'name': 'PYG MEDIUM (MODIFIED) (DSMZ Medium 104)',\n",
       "    'growth': 'yes',\n",
       "    'link': 'https://mediadive.dsmz.de/medium/104',\n",
       "    'composition': 'Name: PYG MEDIUM (modified) (DSMZ Medium 104)\\nComposition:\\nYeast extract 10.0 g/l\\nPeptone 5.0 g/l\\nTrypticase peptone 5.0 g/l\\nBeef extract 5.0 g/l\\nGlucose 5.0 g/l\\nL-Cysteine HCl x H2O 0.5 g/l\\nNaHCO3 0.4 g/l\\nNaCl 0.08 g/l\\nK2HPO4 0.04 g/l\\nKH2PO4 0.04 g/l\\nMgSO4 x 7 H2O 0.02 g/l\\nCaCl2 x 2 H2O 0.01 g/l\\nHemin 0.005 g/l\\nEthanol 0.0038 g/l\\nResazurin 0.001 g/l\\nTween 80\\nVitamin K1\\nNaOH\\nDistilled water'},\n",
       "   {'@ref': 40579,\n",
       "    'name': 'MEDIUM 27 - for Capnocytophaga gingivalis and Abiotrophia genus',\n",
       "    'growth': 'yes',\n",
       "    'composition': 'Distilled water make up to (489.000 ml);Horse serum (200.000 ml);Brain heart infusion (37.000 g);Maltose 10 % solution - M0173 (200.000 ml);Cysteine hydrochloride 5% solution - M0172 (111.000 ml)'}],\n",
       "  'culture temp': [{'@ref': 3744,\n",
       "    'growth': 'positive',\n",
       "    'type': 'growth',\n",
       "    'temperature': '37',\n",
       "    'range': 'mesophilic'},\n",
       "   {'@ref': 40579,\n",
       "    'growth': 'positive',\n",
       "    'type': 'growth',\n",
       "    'temperature': '37',\n",
       "    'range': 'mesophilic'}]}}"
      ]
     },
     "execution_count": 10,
     "metadata": {},
     "output_type": "execute_result"
    }
   ],
   "source": [
    "bacdive_dict['Abiotrophia defectiva'][38]['219'][3]"
   ]
  }
 ],
 "metadata": {
  "kernelspec": {
   "display_name": "Python 3 (ipykernel)",
   "language": "python",
   "name": "python3"
  },
  "language_info": {
   "codemirror_mode": {
    "name": "ipython",
    "version": 3
   },
   "file_extension": ".py",
   "mimetype": "text/x-python",
   "name": "python",
   "nbconvert_exporter": "python",
   "pygments_lexer": "ipython3",
   "version": "3.8.16"
  }
 },
 "nbformat": 4,
 "nbformat_minor": 5
}
