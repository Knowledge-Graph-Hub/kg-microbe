{
 "cells": [
  {
   "cell_type": "code",
   "execution_count": 1,
   "metadata": {},
   "outputs": [],
   "source": [
    "import pickle"
   ]
  },
  {
   "cell_type": "code",
   "execution_count": 8,
   "metadata": {
    "scrolled": false
   },
   "outputs": [],
   "source": [
    "# open a file, where you stored the pickled data\n",
    "file = open(\"../data/bacdive/bacdivedata_ID_isolation_metabolism_20230321.pickle\", 'rb')\n",
    "\n",
    "# dump information to that file\n",
    "bacdive_data = pickle.load(file)\n",
    "\n",
    "# close the file\n",
    "file.close()\n"
   ]
  },
  {
   "cell_type": "code",
   "execution_count": 21,
   "metadata": {},
   "outputs": [],
   "source": [
    "def flatten_dict(dd, separator ='_', prefix =''):\n",
    "    return { prefix + separator + k if prefix else k : v\n",
    "             for kk, vv in dd.items()\n",
    "             for k, v in flatten_dict(vv, separator, kk).items()\n",
    "             } if isinstance(dd, dict) else { prefix : dd }"
   ]
  },
  {
   "cell_type": "code",
   "execution_count": 25,
   "metadata": {},
   "outputs": [],
   "source": [
    "from collections.abc import MutableMapping\n",
    "\n",
    "def flatten_dict_map(d: MutableMapping, parent_key: str = '', sep: str ='.') -> MutableMapping:\n",
    "    items = []\n",
    "    for k, v in d.items():\n",
    "        new_key = parent_key + sep + k if parent_key else k\n",
    "        if isinstance(v, MutableMapping):\n",
    "            items.extend(flatten_dict(v, new_key, sep=sep).items())\n",
    "        else:\n",
    "            items.append((new_key, v))\n",
    "    return dict(items)"
   ]
  },
  {
   "cell_type": "code",
   "execution_count": null,
   "metadata": {},
   "outputs": [],
   "source": [
    "\n",
    "cnt = 0\n",
    "outlist = []\n",
    "for item in bacdive_data:\n",
    "    print(cnt, ' is : ', item)\n",
    "    taxid = -1\n",
    "    #print(bacdive_data[item])\n",
    "    for item2 in bacdive_data[item]:\n",
    "        #print(item2)\n",
    "        #print(flatten_dict_map(item2))\n",
    "        if(type(item2) is dict):\n",
    "            for item3 in item2:\n",
    "                #print(\"3\\t\"+str(type(item3))+\"\\t\"+str(item3))\n",
    "        #type(squares) is dict\n",
    "                if(type(item3) is dict):\n",
    "                    for item4 in item2[item3]:\n",
    "                        #print(\"4\\t\"+str(type(item4))+\"\\t\"+str(item4))\n",
    "                        if type(item4) is list:\n",
    "                            print(\"4\\t\"+\",\".join(str(s) for s in item4))\n",
    "                        else:\n",
    "                            print(\"4\\t\"+item4+\"\\t\"+item2[item3][item4])\n",
    "                elif type(item3) is list:\n",
    "                    print(\"3\\t\"+\",\".join(str(s) for s in item3))\n",
    "                else:\n",
    "                    #print(type(item2))\n",
    "                    #print(type(item3))\n",
    "                    #print(type(item2[item3]))\n",
    "                    if type(item2[item3]) is str:\n",
    "                        print(\"3\\t\"+item3+\"\\t\"+item2[item3])\n",
    "                    if type(item2[item3]) is list:\n",
    "                        #print(\"3\\t\"+\",\".join(str(s) for s in item2[item3]))\n",
    "                        for s in item2[item3]:\n",
    "                            print(s)\n",
    "                              \n",
    "                            try:\n",
    "                                #if(taxid == -1 & bool(s[\"NCBI tax id\"])): \n",
    "                                if(type(s[\"NCBI tax id\"]) is dict): \n",
    "                                    taxid = s[\"NCBI tax id\"][\"NCBI tax id\"]                                \n",
    "                                    print(\"taxid\\t\"+str(taxid))    \n",
    "                            except KeyError:\n",
    "                                print()     \n",
    "\n",
    "                            try:#\n",
    "                                isol_bool = bool(s[\"Isolation, sampling and environmental information\"])\n",
    "                                source = s[\"Isolation, sampling and environmental information\"][\"isolation source categories\"]\n",
    "                                #print(\"source\\t\"+\",\".join(str(s) for s in source))\n",
    "                                #print(len(source))\n",
    "                                for i in range(0,len(source)):\n",
    "                                    print(source[i])\n",
    "                                    strout = [(\"key:\", key, 'value:', value) for key, value in source[i].items()]\n",
    "                            except KeyError:\n",
    "                                print()\n",
    "        else:\n",
    "            print(\"2\\t\"+item2+\"\\t\"+str(bacdive_data[item][item2]))\n",
    "            \n",
    "    outlist.append(str(taxid)+\"\\t\"+\",\".join(str(s) for s in source)+\"\\n\")\n",
    "    cnt += 1\n",
    "    #break\n",
    "    \n",
    "file = open('bacdive__isolation_sources.txt','w')\n",
    "file.writelines(outlist)\n",
    "file.close()"
   ]
  },
  {
   "cell_type": "code",
   "execution_count": null,
   "metadata": {},
   "outputs": [],
   "source": []
  },
  {
   "cell_type": "code",
   "execution_count": null,
   "metadata": {},
   "outputs": [],
   "source": []
  }
 ],
 "metadata": {
  "kernelspec": {
   "display_name": "Python 3",
   "language": "python",
   "name": "python3"
  },
  "language_info": {
   "codemirror_mode": {
    "name": "ipython",
    "version": 3
   },
   "file_extension": ".py",
   "mimetype": "text/x-python",
   "name": "python",
   "nbconvert_exporter": "python",
   "pygments_lexer": "ipython3",
   "version": "3.7.0b4"
  }
 },
 "nbformat": 4,
 "nbformat_minor": 2
}
