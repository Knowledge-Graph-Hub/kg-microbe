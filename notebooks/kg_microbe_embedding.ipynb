{
 "cells": [
  {
   "cell_type": "code",
   "execution_count": null,
   "id": "f1a8d115-1e0d-46e6-8f42-484ed172b34c",
   "metadata": {},
   "outputs": [],
   "source": [
    "from glob import glob\n",
    "from grape import GraphVisualizer\n",
    "\n",
    "node_path = glob(\"../data/merged/merged-kg_nodes.tsv\", recursive=True)[0]\n",
    "edge_path = glob(\"../data/merged/merged-kg_edges.tsv\", recursive=True)[0]"
   ]
  },
  {
   "cell_type": "code",
   "execution_count": null,
   "id": "00751778-9de4-48fe-8c0b-537a8005d550",
   "metadata": {},
   "outputs": [],
   "source": [
    "!pip install graphviz"
   ]
  },
  {
   "cell_type": "code",
   "execution_count": null,
   "id": "b27d9788-9fef-4f47-8144-6711ff0b16e9",
   "metadata": {},
   "outputs": [],
   "source": [
    "#either run THIS ... or ... the cell BELOW!\n",
    "\n",
    "from grape.datasets.kghub import KGMicrobe\n",
    "\n",
    "kg_microbe = KGMicrobe()"
   ]
  },
  {
   "cell_type": "code",
   "execution_count": null,
   "id": "8a71b53f-7614-4595-9fa8-1a7f0d15022b",
   "metadata": {},
   "outputs": [],
   "source": [
    "from grape import Graph\n",
    "\n",
    "kg_microbe = Graph.from_csv(\n",
    "    # Edges related parameters\n",
    "\n",
    "    ## The path to the edges list tsv\n",
    "    edge_path=edge_path,\n",
    "    ## Set the tab as the separator between values\n",
    "    edge_list_separator=\"\\t\",\n",
    "    ## The first rows should NOT be used as the columns names\n",
    "    edge_list_header=True,\n",
    "    ## The source nodes are in the first nodes\n",
    "    sources_column=\"subject\",\n",
    "    #sources_column_number=1,\n",
    "    ## The destination nodes are in the second column\n",
    "    destinations_column=\"object\",\n",
    "    #destinations_column_number=4,\n",
    "    ## Both source and destinations columns use numeric node_ids instead of node names\n",
    "    edge_list_numeric_node_ids=False,\n",
    "    ## The weights are in the third column\n",
    "    weights_column_number=None,\n",
    "\n",
    "    #edge_type_path=edge_path,\n",
    "    edge_list_edge_types_column=\"predicate\",    \n",
    "\n",
    "    # Nodes related parameters\n",
    "    ## The path to the nodes list tsv\n",
    "    node_path=node_path,\n",
    "    ## Set the tab as the separator between values\n",
    "    node_list_separator=\"\\t\",\n",
    "    ## The first rows should be used as the columns names\n",
    "    node_list_header=True,\n",
    "    ## The column with the node names is the one with name \"node_name\".\n",
    "    nodes_column=\"id\",\n",
    "    #nodes_column_number=1,\n",
    "\n",
    "    #node_type_path=node_path,\n",
    "    node_list_node_types_column=\"category\",\n",
    "    \n",
    "    # Graph related parameters\n",
    "    ## The graph is undirected\n",
    "    directed=False,\n",
    "    ## The name of the graph is HomoSapiens\n",
    "    name=\"kg_microbe\",\n",
    "    ## Display a progress bar, (this might be in the terminal and not in the notebook)\n",
    "    verbose=True,\n",
    ")"
   ]
  },
  {
   "cell_type": "code",
   "execution_count": null,
   "id": "4e16f609-2015-4c21-a1ea-5ca9d323ced1",
   "metadata": {},
   "outputs": [],
   "source": [
    "kg_microbe"
   ]
  },
  {
   "cell_type": "code",
   "execution_count": null,
   "id": "f31a9a00-7f74-47be-9086-13feac93be04",
   "metadata": {},
   "outputs": [],
   "source": [
    "%%time\n",
    "import time\n",
    "import threading\n",
    "\n",
    "def elapsed_time_counter(interval):\n",
    "    start_time = time.time()\n",
    "    while True:\n",
    "        current_time = time.time()\n",
    "        elapsed_time = current_time - start_time\n",
    "        print(f\"{elapsed_time:.2f} seconds\")\n",
    "        time.sleep(interval)\n",
    "        \n",
    "interval = 60  # Update every X second\n",
    "\n",
    "# Create a thread for the elapsed time counter\n",
    "counter_thread = threading.Thread(target=elapsed_time_counter, args=(interval,))\n",
    "counter_thread.start()\n",
    "\n"
   ]
  },
  {
   "cell_type": "code",
   "execution_count": null,
   "id": "1b6e4e59-d9c8-4de3-8a02-27c08df5f424",
   "metadata": {},
   "outputs": [],
   "source": [
    "%%time\n",
    "\n",
    "import pickle\n",
    "import datetime\n",
    "from grape.embedders import Node2VecSkipGramEnsmallen#fastnode2vec_embedders\n",
    "\n",
    "model = Node2VecSkipGramEnsmallen()\n",
    "\n",
    "Node2VecSkipGramEnsmallen_embedding = model.fit_transform(kg_microbe)\n",
    "\n",
    "current_datetime = datetime\n",
    ".datetime.now()\n",
    "formatted_date = current_datetime.strftime(\"%Y-%m-%d_%H_%M_%S\")\n",
    "\n",
    "with open('Node2VecSkipGramEnsmallen_embedding_'+formatted_date+'.pkl', 'wb') as file:\n",
    "    # Use the 'wb' mode to write in binary mode\n",
    "    pickle.dump(Node2VecSkipGramEnsmallen_embedding, file)\n"
   ]
  },
  {
   "cell_type": "code",
   "execution_count": null,
   "id": "2ca2c00e-dca4-4dc7-90e2-b7b2d0a88d90",
   "metadata": {},
   "outputs": [],
   "source": [
    "#read from pickle\n",
    "pickle_filename = 'Node2VecSkipGramEnsmallen_embedding_your_'+formatted_date+'.pkl'\n",
    "\n",
    "with open(pickle_filename, 'rb') as file:\n",
    "    # Use the 'rb' mode to read in binary mode\n",
    "    loaded_embedding = pickle.load(file)"
   ]
  },
  {
   "cell_type": "code",
   "execution_count": null,
   "id": "8ba022f1-5ea8-44e7-b2e9-ccee891aea56",
   "metadata": {},
   "outputs": [],
   "source": [
    "!pwd"
   ]
  },
  {
   "cell_type": "code",
   "execution_count": null,
   "id": "ef014710-7f51-476d-9dcc-6f6f292980fb",
   "metadata": {},
   "outputs": [],
   "source": [
    "\n",
    "\n",
    "GraphVisualizer(kg_microbe).fit_and_plot_all(Node2VecSkipGramEnsmallen_embedding)"
   ]
  },
  {
   "cell_type": "code",
   "execution_count": null,
   "id": "05b57d25-3819-40c1-a994-8b23690647e9",
   "metadata": {},
   "outputs": [],
   "source": [
    "vis = GraphVisualizer(\n",
    "    graph=kg_microbe,\n",
    "    n_components=4,\n",
    "    #edge_embedding_method=\"Hadamard\",\n",
    "    rotate=True,\n",
    "    verbose=True,\n",
    "    # Automatically, since GloVe learns a cosine, the visualization tool\n",
    "    # would dispatch a Cosine-distance based TSNE. This would use the sklearn\n",
    "    # implementation, which is terribly slow. Therefore, we force it to use the Euclidean distance\n",
    "    # and therefore the Multicore TSNE implementation (when available).\n",
    "    decomposition_kwargs=dict(metric=\"euclidean\")\n",
    ")\n"
   ]
  },
  {
   "cell_type": "code",
   "execution_count": null,
   "id": "cbb71fa4-0fa3-4ecd-9ac9-2d0a49ed0e3c",
   "metadata": {},
   "outputs": [],
   "source": [
    "%%time\n",
    "vis.fit_nodes(Node2VecSkipGramEnsmallen_embedding)"
   ]
  },
  {
   "cell_type": "code",
   "execution_count": null,
   "id": "0c736c2e-fe6a-4187-adb3-7f1256773422",
   "metadata": {},
   "outputs": [],
   "source": [
    "%%time\n",
    "vis.plot_connected_components()"
   ]
  },
  {
   "cell_type": "code",
   "execution_count": null,
   "id": "175b3b8e-615a-4bf9-8422-a5e5395f9b24",
   "metadata": {},
   "outputs": [],
   "source": [
    "vis.plot_node_ontologies()"
   ]
  },
  {
   "cell_type": "code",
   "execution_count": null,
   "id": "1d6db5f2-1ed2-482d-8a64-40d95c384e76",
   "metadata": {},
   "outputs": [],
   "source": [
    "vis.plot_approximated_closeness_centrality()"
   ]
  },
  {
   "cell_type": "code",
   "execution_count": null,
   "id": "2efead34-8348-4c05-b426-9456e4a5007d",
   "metadata": {},
   "outputs": [],
   "source": [
    "vis.plot_dot()"
   ]
  },
  {
   "cell_type": "code",
   "execution_count": null,
   "id": "afe203e0-10d7-478d-943e-df685e1577c9",
   "metadata": {},
   "outputs": [],
   "source": [
    "vis.plot_node_triangles()             "
   ]
  },
  {
   "cell_type": "code",
   "execution_count": null,
   "id": "db3492ba-f444-4cb1-b1e7-c1c41a1f67c7",
   "metadata": {},
   "outputs": [],
   "source": [
    "#%%time\n",
    "#vis.fit_nodes(walklets_embedding)"
   ]
  },
  {
   "cell_type": "code",
   "execution_count": null,
   "id": "ec5fab6c-2d52-4735-870d-720683440195",
   "metadata": {},
   "outputs": [],
   "source": [
    "%%time\n",
    "vis.plot_node_types()"
   ]
  },
  {
   "cell_type": "code",
   "execution_count": null,
   "id": "13eceb0a-099a-45e3-a8bf-f1a093ed3df1",
   "metadata": {},
   "outputs": [],
   "source": []
  },
  {
   "cell_type": "code",
   "execution_count": null,
   "id": "9395e3c7-77d0-4f2a-a582-c6c8a53c4993",
   "metadata": {},
   "outputs": [],
   "source": [
    "GraphVisualizer(kg_microbe).plot_connected_components(Node2VecSkipGramEnsmallen_embedding)"
   ]
  },
  {
   "cell_type": "code",
   "execution_count": null,
   "id": "bae9a81a-384e-40f5-b85e-69c34f870efe",
   "metadata": {},
   "outputs": [],
   "source": []
  },
  {
   "cell_type": "code",
   "execution_count": null,
   "id": "354c2db3-9445-4f0c-8cb4-a8b1afe1a203",
   "metadata": {},
   "outputs": [],
   "source": [
    "###SLOW\n",
    "\n",
    "%%time\n",
    "from grape.embedders import DeepWalkSkipGramEnsmallen\n",
    "\n",
    "model = DeepWalkSkipGramEnsmallen(\n",
    "    normaliz\n",
    "    2e_by_degree=False\n",
    ")\n",
    "\n",
    "not_normalized_deepwalk_embedding = model.fit_transform(kg_microbe)"
   ]
  },
  {
   "cell_type": "code",
   "execution_count": null,
   "id": "0dee16e5-ac5a-4e13-87cc-692ce477a9bd",
   "metadata": {},
   "outputs": [],
   "source": [
    "###probably SLOW too\n",
    "%%time\n",
    "from grape.embedders import DeepWalkSkipGramEnsmallen\n",
    "\n",
    "model = DeepWalkSkipGramEnsmallen(\n",
    "    normalize_by_degree=True\n",
    ")\n",
    "\n",
    "degree_normalized_deepwalk_embedding = model.fit_transform(kg_microbe)"
   ]
  },
  {
   "cell_type": "code",
   "execution_count": null,
   "id": "120c8423-ab4f-48e4-9aa0-6113d7d07a40",
   "metadata": {},
   "outputs": [],
   "source": []
  }
 ],
 "metadata": {
  "kernelspec": {
   "display_name": "Python 3 (ipykernel)",
   "language": "python",
   "name": "python3"
  },
  "language_info": {
   "codemirror_mode": {
    "name": "ipython",
    "version": 3
   },
   "file_extension": ".py",
   "mimetype": "text/x-python",
   "name": "python",
   "nbconvert_exporter": "python",
   "pygments_lexer": "ipython3",
   "version": "3.10.11"
  }
 },
 "nbformat": 4,
 "nbformat_minor": 5
}
