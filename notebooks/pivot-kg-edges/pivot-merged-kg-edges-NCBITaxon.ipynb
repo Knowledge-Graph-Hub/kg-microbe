{
 "cells": [
  {
   "cell_type": "markdown",
   "metadata": {},
   "source": [
    "# Pivot Merged NCBITaxon KG Edges\n",
    "### This notebook pivots the data from the NCBITaxon Merged KG Edges tsv.  \n",
    "### Output is saved to the file `data/pivot_merged-kg_edges_NCBITaxon.tsv.gz`"
   ]
  },
  {
   "cell_type": "code",
   "execution_count": 1,
   "metadata": {},
   "outputs": [],
   "source": [
    "import pandas as pds"
   ]
  },
  {
   "cell_type": "markdown",
   "metadata": {},
   "source": [
    "## Load file `data/merged-kg_edges_NCBITaxon_clean.tsv.gz` into dataframe"
   ]
  },
  {
   "cell_type": "code",
   "execution_count": 2,
   "metadata": {},
   "outputs": [
    {
     "data": {
      "text/plain": [
       "73808"
      ]
     },
     "execution_count": 2,
     "metadata": {},
     "output_type": "execute_result"
    }
   ],
   "source": [
    "kgEdgesDf = pds.read_csv('data/merged-kg_edges_NCBITaxon_clean.tsv.gz', sep='\\t')\n",
    "len(kgEdgesDf)"
   ]
  },
  {
   "cell_type": "markdown",
   "metadata": {},
   "source": [
    "## Create a unique list of columns from the objects and get a unique list of subjects.\n",
    "### The subjects are sorted in order to create a more efficient index."
   ]
  },
  {
   "cell_type": "code",
   "execution_count": 4,
   "metadata": {},
   "outputs": [
    {
     "name": "stdout",
     "output_type": "stream",
     "text": [
      "num cols: 328\n",
      "num subjects: 31835\n"
     ]
    }
   ],
   "source": [
    "cols = ['subject'] +list(kgEdgesDf['object'].unique()) # note: prepend a subject col\n",
    "subjects = kgEdgesDf['subject'].unique()\n",
    "subjects.sort()\n",
    "print('num cols:', len(cols))\n",
    "print('num subjects:', len(subjects))"
   ]
  },
  {
   "cell_type": "markdown",
   "metadata": {},
   "source": [
    "## Create an empty pivot \"template\" with subjects as index and each uinque object as a column\n",
    "### The NaNs are filled with 0 in order to make filling the template easier."
   ]
  },
  {
   "cell_type": "code",
   "execution_count": 20,
   "metadata": {},
   "outputs": [],
   "source": [
    "pivotDf = pds.DataFrame(columns=cols)\n",
    "pivotDf['subject'] = subjects"
   ]
  },
  {
   "cell_type": "code",
   "execution_count": 21,
   "metadata": {},
   "outputs": [],
   "source": [
    "pivotDf.fillna(0, inplace=True)\n",
    "pivotDf.set_index('subject', inplace=True)"
   ]
  },
  {
   "cell_type": "code",
   "execution_count": 22,
   "metadata": {},
   "outputs": [
    {
     "data": {
      "text/html": [
       "<div>\n",
       "<style scoped>\n",
       "    .dataframe tbody tr th:only-of-type {\n",
       "        vertical-align: middle;\n",
       "    }\n",
       "\n",
       "    .dataframe tbody tr th {\n",
       "        vertical-align: top;\n",
       "    }\n",
       "\n",
       "    .dataframe thead th {\n",
       "        text-align: right;\n",
       "    }\n",
       "</style>\n",
       "<table border=\"1\" class=\"dataframe\">\n",
       "  <thead>\n",
       "    <tr style=\"text-align: right;\">\n",
       "      <th></th>\n",
       "      <th>ECOCORE:00000172</th>\n",
       "      <th>ENVO:00000215</th>\n",
       "      <th>ECOCORE:00000173</th>\n",
       "      <th>Shape:bacillus</th>\n",
       "      <th>ENVO:01000306</th>\n",
       "      <th>ECOCORE:00000177</th>\n",
       "      <th>ECOCORE:00000179</th>\n",
       "      <th>ENVO:00002007</th>\n",
       "      <th>ECOCORE:00000180</th>\n",
       "      <th>ENVO:00000051</th>\n",
       "      <th>...</th>\n",
       "      <th>NCBITaxon:9526</th>\n",
       "      <th>NCBITaxon:376913</th>\n",
       "      <th>NCBITaxon:1890424</th>\n",
       "      <th>NCBITaxon:1437180</th>\n",
       "      <th>NCBITaxon:1446379</th>\n",
       "      <th>NCBITaxon:314293</th>\n",
       "      <th>NCBITaxon:436880</th>\n",
       "      <th>NCBITaxon:7705</th>\n",
       "      <th>NCBITaxon:1206794</th>\n",
       "      <th>NCBITaxon:314146</th>\n",
       "    </tr>\n",
       "    <tr>\n",
       "      <th>subject</th>\n",
       "      <th></th>\n",
       "      <th></th>\n",
       "      <th></th>\n",
       "      <th></th>\n",
       "      <th></th>\n",
       "      <th></th>\n",
       "      <th></th>\n",
       "      <th></th>\n",
       "      <th></th>\n",
       "      <th></th>\n",
       "      <th></th>\n",
       "      <th></th>\n",
       "      <th></th>\n",
       "      <th></th>\n",
       "      <th></th>\n",
       "      <th></th>\n",
       "      <th></th>\n",
       "      <th></th>\n",
       "      <th></th>\n",
       "      <th></th>\n",
       "      <th></th>\n",
       "    </tr>\n",
       "  </thead>\n",
       "  <tbody>\n",
       "    <tr>\n",
       "      <th>ENVO:00000062</th>\n",
       "      <td>0</td>\n",
       "      <td>0</td>\n",
       "      <td>0</td>\n",
       "      <td>0</td>\n",
       "      <td>0</td>\n",
       "      <td>0</td>\n",
       "      <td>0</td>\n",
       "      <td>0</td>\n",
       "      <td>0</td>\n",
       "      <td>0</td>\n",
       "      <td>...</td>\n",
       "      <td>0</td>\n",
       "      <td>0</td>\n",
       "      <td>0</td>\n",
       "      <td>0</td>\n",
       "      <td>0</td>\n",
       "      <td>0</td>\n",
       "      <td>0</td>\n",
       "      <td>0</td>\n",
       "      <td>0</td>\n",
       "      <td>0</td>\n",
       "    </tr>\n",
       "    <tr>\n",
       "      <th>ENVO:01000355</th>\n",
       "      <td>0</td>\n",
       "      <td>0</td>\n",
       "      <td>0</td>\n",
       "      <td>0</td>\n",
       "      <td>0</td>\n",
       "      <td>0</td>\n",
       "      <td>0</td>\n",
       "      <td>0</td>\n",
       "      <td>0</td>\n",
       "      <td>0</td>\n",
       "      <td>...</td>\n",
       "      <td>0</td>\n",
       "      <td>0</td>\n",
       "      <td>0</td>\n",
       "      <td>0</td>\n",
       "      <td>0</td>\n",
       "      <td>0</td>\n",
       "      <td>0</td>\n",
       "      <td>0</td>\n",
       "      <td>0</td>\n",
       "      <td>0</td>\n",
       "    </tr>\n",
       "    <tr>\n",
       "      <th>ENVO:01000993</th>\n",
       "      <td>0</td>\n",
       "      <td>0</td>\n",
       "      <td>0</td>\n",
       "      <td>0</td>\n",
       "      <td>0</td>\n",
       "      <td>0</td>\n",
       "      <td>0</td>\n",
       "      <td>0</td>\n",
       "      <td>0</td>\n",
       "      <td>0</td>\n",
       "      <td>...</td>\n",
       "      <td>0</td>\n",
       "      <td>0</td>\n",
       "      <td>0</td>\n",
       "      <td>0</td>\n",
       "      <td>0</td>\n",
       "      <td>0</td>\n",
       "      <td>0</td>\n",
       "      <td>0</td>\n",
       "      <td>0</td>\n",
       "      <td>0</td>\n",
       "    </tr>\n",
       "    <tr>\n",
       "      <th>ENVO:01000996</th>\n",
       "      <td>0</td>\n",
       "      <td>0</td>\n",
       "      <td>0</td>\n",
       "      <td>0</td>\n",
       "      <td>0</td>\n",
       "      <td>0</td>\n",
       "      <td>0</td>\n",
       "      <td>0</td>\n",
       "      <td>0</td>\n",
       "      <td>0</td>\n",
       "      <td>...</td>\n",
       "      <td>0</td>\n",
       "      <td>0</td>\n",
       "      <td>0</td>\n",
       "      <td>0</td>\n",
       "      <td>0</td>\n",
       "      <td>0</td>\n",
       "      <td>0</td>\n",
       "      <td>0</td>\n",
       "      <td>0</td>\n",
       "      <td>0</td>\n",
       "    </tr>\n",
       "    <tr>\n",
       "      <th>ENVO:01001000</th>\n",
       "      <td>0</td>\n",
       "      <td>0</td>\n",
       "      <td>0</td>\n",
       "      <td>0</td>\n",
       "      <td>0</td>\n",
       "      <td>0</td>\n",
       "      <td>0</td>\n",
       "      <td>0</td>\n",
       "      <td>0</td>\n",
       "      <td>0</td>\n",
       "      <td>...</td>\n",
       "      <td>0</td>\n",
       "      <td>0</td>\n",
       "      <td>0</td>\n",
       "      <td>0</td>\n",
       "      <td>0</td>\n",
       "      <td>0</td>\n",
       "      <td>0</td>\n",
       "      <td>0</td>\n",
       "      <td>0</td>\n",
       "      <td>0</td>\n",
       "    </tr>\n",
       "  </tbody>\n",
       "</table>\n",
       "<p>5 rows × 327 columns</p>\n",
       "</div>"
      ],
      "text/plain": [
       "               ECOCORE:00000172  ENVO:00000215  ECOCORE:00000173  \\\n",
       "subject                                                            \n",
       "ENVO:00000062                 0              0                 0   \n",
       "ENVO:01000355                 0              0                 0   \n",
       "ENVO:01000993                 0              0                 0   \n",
       "ENVO:01000996                 0              0                 0   \n",
       "ENVO:01001000                 0              0                 0   \n",
       "\n",
       "               Shape:bacillus  ENVO:01000306  ECOCORE:00000177  \\\n",
       "subject                                                          \n",
       "ENVO:00000062               0              0                 0   \n",
       "ENVO:01000355               0              0                 0   \n",
       "ENVO:01000993               0              0                 0   \n",
       "ENVO:01000996               0              0                 0   \n",
       "ENVO:01001000               0              0                 0   \n",
       "\n",
       "               ECOCORE:00000179  ENVO:00002007  ECOCORE:00000180  \\\n",
       "subject                                                            \n",
       "ENVO:00000062                 0              0                 0   \n",
       "ENVO:01000355                 0              0                 0   \n",
       "ENVO:01000993                 0              0                 0   \n",
       "ENVO:01000996                 0              0                 0   \n",
       "ENVO:01001000                 0              0                 0   \n",
       "\n",
       "               ENVO:00000051  ...  NCBITaxon:9526  NCBITaxon:376913  \\\n",
       "subject                       ...                                     \n",
       "ENVO:00000062              0  ...               0                 0   \n",
       "ENVO:01000355              0  ...               0                 0   \n",
       "ENVO:01000993              0  ...               0                 0   \n",
       "ENVO:01000996              0  ...               0                 0   \n",
       "ENVO:01001000              0  ...               0                 0   \n",
       "\n",
       "               NCBITaxon:1890424  NCBITaxon:1437180  NCBITaxon:1446379  \\\n",
       "subject                                                                  \n",
       "ENVO:00000062                  0                  0                  0   \n",
       "ENVO:01000355                  0                  0                  0   \n",
       "ENVO:01000993                  0                  0                  0   \n",
       "ENVO:01000996                  0                  0                  0   \n",
       "ENVO:01001000                  0                  0                  0   \n",
       "\n",
       "               NCBITaxon:314293  NCBITaxon:436880  NCBITaxon:7705  \\\n",
       "subject                                                             \n",
       "ENVO:00000062                 0                 0               0   \n",
       "ENVO:01000355                 0                 0               0   \n",
       "ENVO:01000993                 0                 0               0   \n",
       "ENVO:01000996                 0                 0               0   \n",
       "ENVO:01001000                 0                 0               0   \n",
       "\n",
       "               NCBITaxon:1206794  NCBITaxon:314146  \n",
       "subject                                             \n",
       "ENVO:00000062                  0                 0  \n",
       "ENVO:01000355                  0                 0  \n",
       "ENVO:01000993                  0                 0  \n",
       "ENVO:01000996                  0                 0  \n",
       "ENVO:01001000                  0                 0  \n",
       "\n",
       "[5 rows x 327 columns]"
      ]
     },
     "execution_count": 22,
     "metadata": {},
     "output_type": "execute_result"
    }
   ],
   "source": [
    "# pivotDf.head() # peek at data"
   ]
  },
  {
   "cell_type": "markdown",
   "metadata": {},
   "source": [
    "## fill in pivot template"
   ]
  },
  {
   "cell_type": "code",
   "execution_count": 32,
   "metadata": {},
   "outputs": [],
   "source": [
    "for idx, subj, obj, in kgEdgesDf[['subject', 'object']].itertuples():\n",
    "    pivotDf.loc[subj, obj] = pivotDf.loc[subj, obj] + 1"
   ]
  },
  {
   "cell_type": "code",
   "execution_count": 43,
   "metadata": {},
   "outputs": [],
   "source": [
    "# pivotDf.head() # peek at data"
   ]
  },
  {
   "cell_type": "markdown",
   "metadata": {},
   "source": [
    "## Save pivoted data"
   ]
  },
  {
   "cell_type": "code",
   "execution_count": 45,
   "metadata": {},
   "outputs": [],
   "source": [
    "pivotDf.to_csv('data/pivot_merged-kg_edges_NCBITaxon.tsv.gz', sep='\\t', compression='gzip')"
   ]
  },
  {
   "cell_type": "code",
   "execution_count": null,
   "metadata": {},
   "outputs": [],
   "source": []
  }
 ],
 "metadata": {
  "kernelspec": {
   "display_name": "Python 3",
   "language": "python",
   "name": "python3"
  },
  "language_info": {
   "codemirror_mode": {
    "name": "ipython",
    "version": 3
   },
   "file_extension": ".py",
   "mimetype": "text/x-python",
   "name": "python",
   "nbconvert_exporter": "python",
   "pygments_lexer": "ipython3",
   "version": "3.7.8"
  }
 },
 "nbformat": 4,
 "nbformat_minor": 4
}
